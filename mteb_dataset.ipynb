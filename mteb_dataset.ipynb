{
 "cells": [
  {
   "cell_type": "code",
   "execution_count": 1,
   "id": "9bb95b1c",
   "metadata": {},
   "outputs": [
    {
     "name": "stderr",
     "output_type": "stream",
     "text": [
      "/raid/toxicity/miniconda3/envs/AI/lib/python3.12/site-packages/tqdm/auto.py:21: TqdmWarning: IProgress not found. Please update jupyter and ipywidgets. See https://ipywidgets.readthedocs.io/en/stable/user_install.html\n",
      "  from .autonotebook import tqdm as notebook_tqdm\n"
     ]
    }
   ],
   "source": [
    "import json\n",
    "\n",
    "import numpy as np\n",
    "import pandas as pd\n",
    "import torch\n",
    "from transformers import AutoTokenizer\n",
    "\n",
    "import mteb"
   ]
  },
  {
   "cell_type": "code",
   "execution_count": 5,
   "id": "7e882ae5",
   "metadata": {},
   "outputs": [
    {
     "name": "stderr",
     "output_type": "stream",
     "text": [
      "Failed to extract metadata from model: 'CustomModel' object has no attribute 'model_card_data'. Upgrading to sentence-transformers v3.0.0 or above is recommended.\n"
     ]
    },
    {
     "data": {
      "text/html": [
       "<pre style=\"white-space:pre;overflow-x:auto;line-height:normal;font-family:Menlo,'DejaVu Sans Mono',consolas,'Courier New',monospace\"><span style=\"color: #262626; text-decoration-color: #262626\">───────────────────────────────────────────────── </span><span style=\"font-weight: bold\">Selected tasks </span><span style=\"color: #262626; text-decoration-color: #262626\"> ─────────────────────────────────────────────────</span>\n",
       "</pre>\n"
      ],
      "text/plain": [
       "\u001b[38;5;235m───────────────────────────────────────────────── \u001b[0m\u001b[1mSelected tasks \u001b[0m\u001b[38;5;235m ─────────────────────────────────────────────────\u001b[0m\n"
      ]
     },
     "metadata": {},
     "output_type": "display_data"
    },
    {
     "data": {
      "text/html": [
       "<pre style=\"white-space:pre;overflow-x:auto;line-height:normal;font-family:Menlo,'DejaVu Sans Mono',consolas,'Courier New',monospace\"><span style=\"font-weight: bold\">STS</span>\n",
       "</pre>\n"
      ],
      "text/plain": [
       "\u001b[1mSTS\u001b[0m\n"
      ]
     },
     "metadata": {},
     "output_type": "display_data"
    },
    {
     "data": {
      "text/html": [
       "<pre style=\"white-space:pre;overflow-x:auto;line-height:normal;font-family:Menlo,'DejaVu Sans Mono',consolas,'Courier New',monospace\">    - IndicCrosslingualSTS, <span style=\"color: #626262; text-decoration-color: #626262; font-style: italic\">s2s</span>, <span style=\"color: #800000; text-decoration-color: #800000; font-style: italic\">multilingual </span><span style=\"color: #800000; text-decoration-color: #800000; font-weight: bold; font-style: italic\">1</span><span style=\"color: #800000; text-decoration-color: #800000; font-style: italic\"> / </span><span style=\"color: #800000; text-decoration-color: #800000; font-weight: bold; font-style: italic\">12</span><span style=\"color: #800000; text-decoration-color: #800000; font-style: italic\"> Subsets</span>\n",
       "</pre>\n"
      ],
      "text/plain": [
       "    - IndicCrosslingualSTS, \u001b[3;38;5;241ms2s\u001b[0m, \u001b[3;31mmultilingual \u001b[0m\u001b[1;3;31m1\u001b[0m\u001b[3;31m \u001b[0m\u001b[3;31m/\u001b[0m\u001b[3;31m \u001b[0m\u001b[1;3;31m12\u001b[0m\u001b[3;31m Subsets\u001b[0m\n"
      ]
     },
     "metadata": {},
     "output_type": "display_data"
    },
    {
     "data": {
      "text/html": [
       "<pre style=\"white-space:pre;overflow-x:auto;line-height:normal;font-family:Menlo,'DejaVu Sans Mono',consolas,'Courier New',monospace\">\n",
       "\n",
       "</pre>\n"
      ],
      "text/plain": [
       "\n",
       "\n"
      ]
     },
     "metadata": {},
     "output_type": "display_data"
    },
    {
     "data": {
      "text/plain": [
       "[TaskResult(task_name=IndicCrosslingualSTS, scores=...)]"
      ]
     },
     "execution_count": 5,
     "metadata": {},
     "output_type": "execute_result"
    }
   ],
   "source": [
    "import mteb.evaluation\n",
    "from mteb_test import CustomModel\n",
    "from transformers import AutoModel, AutoTokenizer\n",
    "\n",
    "base_model = AutoModel.from_pretrained(\"checkpoints/ganga-2-1b-embeddings-new-equall-finetune-mean-32-epoch-1/best_model\")\n",
    "tokenizer = AutoTokenizer.from_pretrained(\"LingoIITGN/Ganga-2-1B\")\n",
    "model = CustomModel(base_model, tokenizer)\n",
    "\n",
    "\n",
    "tasks = mteb.get_tasks(tasks=['IndicCrosslingualSTS'], languages=['hin'])\n",
    "evaluation = mteb.MTEB(tasks=tasks)\n",
    "evaluation.run(model, encode_kwargs={\"batch_size\": 128}, output_folder=f\"results/testing\")"
   ]
  },
  {
   "cell_type": "markdown",
   "id": "1ca14586",
   "metadata": {},
   "source": [
    "IndicLangClassification"
   ]
  },
  {
   "cell_type": "code",
   "execution_count": null,
   "id": "6c7426ef",
   "metadata": {},
   "outputs": [
    {
     "name": "stderr",
     "output_type": "stream",
     "text": [
      "Map: 100%|██████████| 458/458 [00:00<00:00, 18744.85 examples/s]\n",
      "Map: 100%|██████████| 1066/1066 [00:00<00:00, 20441.22 examples/s]\n",
      "Map: 100%|██████████| 451/451 [00:00<00:00, 20997.59 examples/s]\n",
      "Map: 100%|██████████| 1051/1051 [00:00<00:00, 21388.50 examples/s]\n",
      "Map: 100%|██████████| 3564/3564 [00:00<00:00, 22401.30 examples/s]\n",
      "Map: 100%|██████████| 2048/2048 [00:00<00:00, 21995.24 examples/s]\n",
      "Map: 100%|██████████| 450/450 [00:00<00:00, 21102.59 examples/s]\n",
      "Map: 100%|██████████| 1050/1050 [00:00<00:00, 21316.34 examples/s]\n",
      "Map: 100%|██████████| 3753/3753 [00:00<00:00, 22293.44 examples/s]\n",
      "Map: 100%|██████████| 2048/2048 [00:00<00:00, 21661.61 examples/s]\n",
      "Map: 100%|██████████| 3580/3580 [00:00<00:00, 22100.66 examples/s]\n",
      "Map: 100%|██████████| 2048/2048 [00:00<00:00, 7910.35 examples/s]\n",
      "Map: 100%|██████████| 3813/3813 [00:00<00:00, 22163.02 examples/s]\n",
      "Map: 100%|██████████| 2048/2048 [00:00<00:00, 21470.54 examples/s]\n",
      "Map: 100%|██████████| 755/755 [00:00<00:00, 21258.15 examples/s]\n",
      "Map: 100%|██████████| 1760/1760 [00:00<00:00, 21726.77 examples/s]\n",
      "Map: 100%|██████████| 3591/3591 [00:00<00:00, 21878.11 examples/s]\n",
      "Map: 100%|██████████| 2048/2048 [00:00<00:00, 20560.36 examples/s]\n",
      "Map: 100%|██████████| 3581/3581 [00:00<00:00, 21273.66 examples/s]\n",
      "Map: 100%|██████████| 2048/2048 [00:00<00:00, 21216.68 examples/s]\n",
      "Map: 100%|██████████| 755/755 [00:00<00:00, 21040.35 examples/s]\n",
      "Map: 100%|██████████| 1759/1759 [00:00<00:00, 7199.07 examples/s]\n",
      "Map: 100%|██████████| 458/458 [00:00<00:00, 20298.74 examples/s]\n",
      "Map: 100%|██████████| 1066/1066 [00:00<00:00, 20661.60 examples/s]\n",
      "Map: 100%|██████████| 3746/3746 [00:00<00:00, 21835.35 examples/s]\n",
      "Map: 100%|██████████| 2048/2048 [00:00<00:00, 21206.15 examples/s]\n",
      "Map: 100%|██████████| 759/759 [00:00<00:00, 20323.39 examples/s]\n",
      "Map: 100%|██████████| 1768/1768 [00:00<00:00, 21694.70 examples/s]\n",
      "Map: 100%|██████████| 3766/3766 [00:00<00:00, 21866.71 examples/s]\n",
      "Map: 100%|██████████| 2048/2048 [00:00<00:00, 20944.93 examples/s]\n",
      "Map: 100%|██████████| 3718/3718 [00:00<00:00, 21966.98 examples/s]\n",
      "Map: 100%|██████████| 2048/2048 [00:00<00:00, 7980.79 examples/s]\n",
      "Map: 100%|██████████| 304/304 [00:00<00:00, 18786.37 examples/s]\n",
      "Map: 100%|██████████| 708/708 [00:00<00:00, 20311.12 examples/s]\n",
      "Map: 100%|██████████| 304/304 [00:00<00:00, 19416.30 examples/s]\n",
      "Map: 100%|██████████| 708/708 [00:00<00:00, 20935.30 examples/s]\n",
      "Map: 100%|██████████| 450/450 [00:00<00:00, 20708.07 examples/s]\n",
      "Map: 100%|██████████| 1050/1050 [00:00<00:00, 20284.46 examples/s]\n"
     ]
    },
    {
     "data": {
      "text/plain": [
       "DatasetDict({\n",
       "    train: Dataset({\n",
       "        features: ['unique_identifier', 'text', 'romanized sentence', 'source', 'lang_code', 'label'],\n",
       "        num_rows: 38256\n",
       "    })\n",
       "    test: Dataset({\n",
       "        features: ['unique_identifier', 'text', 'romanized sentence', 'source', 'lang_code', 'label'],\n",
       "        num_rows: 30418\n",
       "    })\n",
       "})"
      ]
     },
     "execution_count": 2,
     "metadata": {},
     "output_type": "execute_result"
    }
   ],
   "source": [
    "from mteb.tasks import IndicLangClassification\n",
    "\n",
    "task = IndicLangClassification()\n",
    "task.load_data()\n",
    "task.dataset"
   ]
  },
  {
   "cell_type": "code",
   "execution_count": 3,
   "id": "a559083c",
   "metadata": {},
   "outputs": [
    {
     "data": {
      "text/plain": [
       "['test']"
      ]
     },
     "execution_count": 3,
     "metadata": {},
     "output_type": "execute_result"
    }
   ],
   "source": [
    "task.eval_splits"
   ]
  },
  {
   "cell_type": "code",
   "execution_count": 10,
   "id": "405d8b07",
   "metadata": {},
   "outputs": [
    {
     "data": {
      "text/plain": [
       "{'unique_identifier': 'as_190',\n",
       " 'text': 'উল্লেখ্য যে ভৰত মালানী ৰাজস্থান বিজেপিৰ কেইবাটাও গুৰুূত্বপূৰ্ণ দায়িত্বত আছিল।',\n",
       " 'romanized sentence': 'Ullekhyo je Bharat malani Rajasthan BJPr kebatau gurutwopurno dayityo asil.',\n",
       " 'source': 'Manually-Collected',\n",
       " 'lang_code': 'asm_Beng',\n",
       " 'label': 0}"
      ]
     },
     "execution_count": 10,
     "metadata": {},
     "output_type": "execute_result"
    }
   ],
   "source": [
    "task.dataset['train'][1]"
   ]
  },
  {
   "cell_type": "markdown",
   "id": "b5a682b7",
   "metadata": {},
   "source": [
    "IN22ConvBitextMining (Jay Gala, 2023)"
   ]
  },
  {
   "cell_type": "code",
   "execution_count": 1,
   "id": "4ace9071",
   "metadata": {},
   "outputs": [
    {
     "name": "stderr",
     "output_type": "stream",
     "text": [
      "/raid/toxicity/miniconda3/envs/Hinvec/lib/python3.12/site-packages/tqdm/auto.py:21: TqdmWarning: IProgress not found. Please update jupyter and ipywidgets. See https://ipywidgets.readthedocs.io/en/stable/user_install.html\n",
      "  from .autonotebook import tqdm as notebook_tqdm\n"
     ]
    },
    {
     "name": "stdout",
     "output_type": "stream",
     "text": [
      "[2025-05-10 10:54:33,009] [INFO] [real_accelerator.py:239:get_accelerator] Setting ds_accelerator to cuda (auto detect)\n"
     ]
    },
    {
     "name": "stderr",
     "output_type": "stream",
     "text": [
      "/raid/toxicity/miniconda3/envs/Hinvec/compiler_compat/ld: cannot find -laio: No such file or directory\n",
      "collect2: error: ld returned 1 exit status\n",
      "/raid/toxicity/miniconda3/envs/Hinvec/compiler_compat/ld: warning: libpthread.so.0, needed by /usr/local/cuda/lib64/libcufile.so, not found (try using -rpath or -rpath-link)\n",
      "/raid/toxicity/miniconda3/envs/Hinvec/compiler_compat/ld: warning: libstdc++.so.6, needed by /usr/local/cuda/lib64/libcufile.so, not found (try using -rpath or -rpath-link)\n",
      "/raid/toxicity/miniconda3/envs/Hinvec/compiler_compat/ld: warning: libm.so.6, needed by /usr/local/cuda/lib64/libcufile.so, not found (try using -rpath or -rpath-link)\n",
      "/raid/toxicity/miniconda3/envs/Hinvec/compiler_compat/ld: /usr/local/cuda/lib64/libcufile.so: undefined reference to `std::runtime_error::~runtime_error()@GLIBCXX_3.4'\n",
      "/raid/toxicity/miniconda3/envs/Hinvec/compiler_compat/ld: /usr/local/cuda/lib64/libcufile.so: undefined reference to `__gxx_personality_v0@CXXABI_1.3'\n",
      "/raid/toxicity/miniconda3/envs/Hinvec/compiler_compat/ld: /usr/local/cuda/lib64/libcufile.so: undefined reference to `std::ostream::tellp()@GLIBCXX_3.4'\n",
      "/raid/toxicity/miniconda3/envs/Hinvec/compiler_compat/ld: /usr/local/cuda/lib64/libcufile.so: undefined reference to `std::chrono::_V2::steady_clock::now()@GLIBCXX_3.4.19'\n",
      "/raid/toxicity/miniconda3/envs/Hinvec/compiler_compat/ld: /usr/local/cuda/lib64/libcufile.so: undefined reference to `std::string::_M_replace_aux(unsigned long, unsigned long, unsigned long, char)@GLIBCXX_3.4'\n",
      "/raid/toxicity/miniconda3/envs/Hinvec/compiler_compat/ld: /usr/local/cuda/lib64/libcufile.so: undefined reference to `typeinfo for bool@CXXABI_1.3'\n",
      "/raid/toxicity/miniconda3/envs/Hinvec/compiler_compat/ld: /usr/local/cuda/lib64/libcufile.so: undefined reference to `std::__throw_logic_error(char const*)@GLIBCXX_3.4'\n",
      "/raid/toxicity/miniconda3/envs/Hinvec/compiler_compat/ld: /usr/local/cuda/lib64/libcufile.so: undefined reference to `VTT for std::basic_ostringstream<char, std::char_traits<char>, std::allocator<char> >@GLIBCXX_3.4'\n",
      "/raid/toxicity/miniconda3/envs/Hinvec/compiler_compat/ld: /usr/local/cuda/lib64/libcufile.so: undefined reference to `vtable for std::logic_error@GLIBCXX_3.4'\n",
      "/raid/toxicity/miniconda3/envs/Hinvec/compiler_compat/ld: /usr/local/cuda/lib64/libcufile.so: undefined reference to `std::locale::~locale()@GLIBCXX_3.4'\n",
      "/raid/toxicity/miniconda3/envs/Hinvec/compiler_compat/ld: /usr/local/cuda/lib64/libcufile.so: undefined reference to `std::basic_string<char, std::char_traits<char>, std::allocator<char> >::basic_string(std::string const&, unsigned long, unsigned long)@GLIBCXX_3.4'\n",
      "/raid/toxicity/miniconda3/envs/Hinvec/compiler_compat/ld: /usr/local/cuda/lib64/libcufile.so: undefined reference to `__cxa_end_catch@CXXABI_1.3'\n",
      "/raid/toxicity/miniconda3/envs/Hinvec/compiler_compat/ld: /usr/local/cuda/lib64/libcufile.so: undefined reference to `VTT for std::basic_ofstream<char, std::char_traits<char> >@GLIBCXX_3.4'\n",
      "/raid/toxicity/miniconda3/envs/Hinvec/compiler_compat/ld: /usr/local/cuda/lib64/libcufile.so: undefined reference to `std::logic_error::~logic_error()@GLIBCXX_3.4'\n",
      "/raid/toxicity/miniconda3/envs/Hinvec/compiler_compat/ld: /usr/local/cuda/lib64/libcufile.so: undefined reference to `vtable for __cxxabiv1::__si_class_type_info@CXXABI_1.3'\n",
      "/raid/toxicity/miniconda3/envs/Hinvec/compiler_compat/ld: /usr/local/cuda/lib64/libcufile.so: undefined reference to `std::basic_ios<char, std::char_traits<char> >::_M_cache_locale(std::locale const&)@GLIBCXX_3.4'\n",
      "/raid/toxicity/miniconda3/envs/Hinvec/compiler_compat/ld: /usr/local/cuda/lib64/libcufile.so: undefined reference to `VTT for std::basic_stringstream<char, std::char_traits<char>, std::allocator<char> >@GLIBCXX_3.4'\n",
      "/raid/toxicity/miniconda3/envs/Hinvec/compiler_compat/ld: /usr/local/cuda/lib64/libcufile.so: undefined reference to `operator new[](unsigned long)@GLIBCXX_3.4'\n",
      "/raid/toxicity/miniconda3/envs/Hinvec/compiler_compat/ld: /usr/local/cuda/lib64/libcufile.so: undefined reference to `std::string::_M_leak_hard()@GLIBCXX_3.4'\n",
      "/raid/toxicity/miniconda3/envs/Hinvec/compiler_compat/ld: /usr/local/cuda/lib64/libcufile.so: undefined reference to `vtable for std::basic_ifstream<char, std::char_traits<char> >@GLIBCXX_3.4'\n",
      "/raid/toxicity/miniconda3/envs/Hinvec/compiler_compat/ld: /usr/local/cuda/lib64/libcufile.so: undefined reference to `std::basic_streambuf<wchar_t, std::char_traits<wchar_t> >::basic_streambuf(std::basic_streambuf<wchar_t, std::char_traits<wchar_t> > const&)@GLIBCXX_3.4'\n",
      "/raid/toxicity/miniconda3/envs/Hinvec/compiler_compat/ld: /usr/local/cuda/lib64/libcufile.so: undefined reference to `std::string::append(char const*, unsigned long)@GLIBCXX_3.4'\n",
      "/raid/toxicity/miniconda3/envs/Hinvec/compiler_compat/ld: /usr/local/cuda/lib64/libcufile.so: undefined reference to `std::basic_string<char, std::char_traits<char>, std::allocator<char> >::basic_string(std::string const&)@GLIBCXX_3.4'\n",
      "/raid/toxicity/miniconda3/envs/Hinvec/compiler_compat/ld: /usr/local/cuda/lib64/libcufile.so: undefined reference to `typeinfo for unsigned short@CXXABI_1.3'\n",
      "/raid/toxicity/miniconda3/envs/Hinvec/compiler_compat/ld: /usr/local/cuda/lib64/libcufile.so: undefined reference to `std::string::resize(unsigned long, char)@GLIBCXX_3.4'\n",
      "/raid/toxicity/miniconda3/envs/Hinvec/compiler_compat/ld: /usr/local/cuda/lib64/libcufile.so: undefined reference to `typeinfo for char const*@CXXABI_1.3'\n",
      "/raid/toxicity/miniconda3/envs/Hinvec/compiler_compat/ld: /usr/local/cuda/lib64/libcufile.so: undefined reference to `std::ctype<char>::_M_widen_init() const@GLIBCXX_3.4.11'\n",
      "/raid/toxicity/miniconda3/envs/Hinvec/compiler_compat/ld: /usr/local/cuda/lib64/libcufile.so: undefined reference to `std::__throw_invalid_argument(char const*)@GLIBCXX_3.4'\n",
      "/raid/toxicity/miniconda3/envs/Hinvec/compiler_compat/ld: /usr/local/cuda/lib64/libcufile.so: undefined reference to `std::locale::operator=(std::locale const&)@GLIBCXX_3.4'\n",
      "/raid/toxicity/miniconda3/envs/Hinvec/compiler_compat/ld: /usr/local/cuda/lib64/libcufile.so: undefined reference to `std::basic_ios<wchar_t, std::char_traits<wchar_t> >::_M_cache_locale(std::locale const&)@GLIBCXX_3.4'\n",
      "/raid/toxicity/miniconda3/envs/Hinvec/compiler_compat/ld: /usr/local/cuda/lib64/libcufile.so: undefined reference to `std::_Rb_tree_decrement(std::_Rb_tree_node_base const*)@GLIBCXX_3.4'\n",
      "/raid/toxicity/miniconda3/envs/Hinvec/compiler_compat/ld: /usr/local/cuda/lib64/libcufile.so: undefined reference to `__cxa_free_exception@CXXABI_1.3'\n",
      "/raid/toxicity/miniconda3/envs/Hinvec/compiler_compat/ld: /usr/local/cuda/lib64/libcufile.so: undefined reference to `std::condition_variable::notify_one()@GLIBCXX_3.4.11'\n",
      "/raid/toxicity/miniconda3/envs/Hinvec/compiler_compat/ld: /usr/local/cuda/lib64/libcufile.so: undefined reference to `std::ios_base::Init::~Init()@GLIBCXX_3.4'\n",
      "/raid/toxicity/miniconda3/envs/Hinvec/compiler_compat/ld: /usr/local/cuda/lib64/libcufile.so: undefined reference to `std::basic_string<char, std::char_traits<char>, std::allocator<char> >::~basic_string()@GLIBCXX_3.4'\n",
      "/raid/toxicity/miniconda3/envs/Hinvec/compiler_compat/ld: /usr/local/cuda/lib64/libcufile.so: undefined reference to `__cxa_pure_virtual@CXXABI_1.3'\n",
      "/raid/toxicity/miniconda3/envs/Hinvec/compiler_compat/ld: /usr/local/cuda/lib64/libcufile.so: undefined reference to `std::ostream::flush()@GLIBCXX_3.4'\n",
      "/raid/toxicity/miniconda3/envs/Hinvec/compiler_compat/ld: /usr/local/cuda/lib64/libcufile.so: undefined reference to `vtable for __cxxabiv1::__class_type_info@CXXABI_1.3'\n",
      "/raid/toxicity/miniconda3/envs/Hinvec/compiler_compat/ld: /usr/local/cuda/lib64/libcufile.so: undefined reference to `__cxa_rethrow@CXXABI_1.3'\n",
      "/raid/toxicity/miniconda3/envs/Hinvec/compiler_compat/ld: /usr/local/cuda/lib64/libcufile.so: undefined reference to `vtable for std::basic_stringbuf<char, std::char_traits<char>, std::allocator<char> >@GLIBCXX_3.4'\n",
      "/raid/toxicity/miniconda3/envs/Hinvec/compiler_compat/ld: /usr/local/cuda/lib64/libcufile.so: undefined reference to `std::basic_fstream<char, std::char_traits<char> >::~basic_fstream()@GLIBCXX_3.4'\n",
      "/raid/toxicity/miniconda3/envs/Hinvec/compiler_compat/ld: /usr/local/cuda/lib64/libcufile.so: undefined reference to `std::string::compare(char const*) const@GLIBCXX_3.4'\n",
      "/raid/toxicity/miniconda3/envs/Hinvec/compiler_compat/ld: /usr/local/cuda/lib64/libcufile.so: undefined reference to `VTT for std::basic_ostringstream<wchar_t, std::char_traits<wchar_t>, std::allocator<wchar_t> >@GLIBCXX_3.4'\n",
      "/raid/toxicity/miniconda3/envs/Hinvec/compiler_compat/ld: /usr/local/cuda/lib64/libcufile.so: undefined reference to `std::locale::locale()@GLIBCXX_3.4'\n",
      "/raid/toxicity/miniconda3/envs/Hinvec/compiler_compat/ld: /usr/local/cuda/lib64/libcufile.so: undefined reference to `std::chrono::_V2::system_clock::now()@GLIBCXX_3.4.19'\n",
      "/raid/toxicity/miniconda3/envs/Hinvec/compiler_compat/ld: /usr/local/cuda/lib64/libcufile.so: undefined reference to `VTT for std::basic_ifstream<char, std::char_traits<char> >@GLIBCXX_3.4'\n",
      "/raid/toxicity/miniconda3/envs/Hinvec/compiler_compat/ld: /usr/local/cuda/lib64/libcufile.so: undefined reference to `std::_Hash_bytes(void const*, unsigned long, unsigned long)@CXXABI_1.3.5'\n",
      "/raid/toxicity/miniconda3/envs/Hinvec/compiler_compat/ld: /usr/local/cuda/lib64/libcufile.so: undefined reference to `std::ostream& std::ostream::_M_insert<long long>(long long)@GLIBCXX_3.4.9'\n",
      "/raid/toxicity/miniconda3/envs/Hinvec/compiler_compat/ld: /usr/local/cuda/lib64/libcufile.so: undefined reference to `typeinfo for char*@CXXABI_1.3'\n",
      "/raid/toxicity/miniconda3/envs/Hinvec/compiler_compat/ld: /usr/local/cuda/lib64/libcufile.so: undefined reference to `std::__detail::_Prime_rehash_policy::_M_need_rehash(unsigned long, unsigned long, unsigned long) const@GLIBCXX_3.4.18'\n",
      "/raid/toxicity/miniconda3/envs/Hinvec/compiler_compat/ld: /usr/local/cuda/lib64/libcufile.so: undefined reference to `vtable for std::out_of_range@GLIBCXX_3.4'\n",
      "/raid/toxicity/miniconda3/envs/Hinvec/compiler_compat/ld: /usr/local/cuda/lib64/libcufile.so: undefined reference to `std::ostream& std::ostream::_M_insert<unsigned long>(unsigned long)@GLIBCXX_3.4.9'\n",
      "/raid/toxicity/miniconda3/envs/Hinvec/compiler_compat/ld: /usr/local/cuda/lib64/libcufile.so: undefined reference to `std::_Rb_tree_increment(std::_Rb_tree_node_base const*)@GLIBCXX_3.4'\n",
      "/raid/toxicity/miniconda3/envs/Hinvec/compiler_compat/ld: /usr/local/cuda/lib64/libcufile.so: undefined reference to `std::ios_base::~ios_base()@GLIBCXX_3.4'\n",
      "/raid/toxicity/miniconda3/envs/Hinvec/compiler_compat/ld: /usr/local/cuda/lib64/libcufile.so: undefined reference to `std::range_error::~range_error()@GLIBCXX_3.4'\n",
      "/raid/toxicity/miniconda3/envs/Hinvec/compiler_compat/ld: /usr/local/cuda/lib64/libcufile.so: undefined reference to `std::__basic_file<char>::~__basic_file()@GLIBCXX_3.4'\n",
      "/raid/toxicity/miniconda3/envs/Hinvec/compiler_compat/ld: /usr/local/cuda/lib64/libcufile.so: undefined reference to `__cxa_guard_acquire@CXXABI_1.3'\n",
      "/raid/toxicity/miniconda3/envs/Hinvec/compiler_compat/ld: /usr/local/cuda/lib64/libcufile.so: undefined reference to `std::ostream& std::ostream::_M_insert<bool>(bool)@GLIBCXX_3.4.9'\n",
      "/raid/toxicity/miniconda3/envs/Hinvec/compiler_compat/ld: /usr/local/cuda/lib64/libcufile.so: undefined reference to `vtable for std::overflow_error@GLIBCXX_3.4'\n",
      "/raid/toxicity/miniconda3/envs/Hinvec/compiler_compat/ld: /usr/local/cuda/lib64/libcufile.so: undefined reference to `VTT for std::basic_fstream<char, std::char_traits<char> >@GLIBCXX_3.4'\n",
      "/raid/toxicity/miniconda3/envs/Hinvec/compiler_compat/ld: /usr/local/cuda/lib64/libcufile.so: undefined reference to `vtable for std::range_error@GLIBCXX_3.4'\n",
      "/raid/toxicity/miniconda3/envs/Hinvec/compiler_compat/ld: /usr/local/cuda/lib64/libcufile.so: undefined reference to `vtable for std::basic_ios<char, std::char_traits<char> >@GLIBCXX_3.4'\n",
      "/raid/toxicity/miniconda3/envs/Hinvec/compiler_compat/ld: /usr/local/cuda/lib64/libcufile.so: undefined reference to `vtable for std::basic_filebuf<char, std::char_traits<char> >@GLIBCXX_3.4'\n",
      "/raid/toxicity/miniconda3/envs/Hinvec/compiler_compat/ld: /usr/local/cuda/lib64/libcufile.so: undefined reference to `operator delete[](void*)@GLIBCXX_3.4'\n",
      "/raid/toxicity/miniconda3/envs/Hinvec/compiler_compat/ld: /usr/local/cuda/lib64/libcufile.so: undefined reference to `vtable for std::basic_stringstream<char, std::char_traits<char>, std::allocator<char> >@GLIBCXX_3.4'\n",
      "/raid/toxicity/miniconda3/envs/Hinvec/compiler_compat/ld: /usr/local/cuda/lib64/libcufile.so: undefined reference to `std::basic_string<char, std::char_traits<char>, std::allocator<char> >::basic_string(unsigned long, char, std::allocator<char> const&)@GLIBCXX_3.4'\n",
      "/raid/toxicity/miniconda3/envs/Hinvec/compiler_compat/ld: /usr/local/cuda/lib64/libcufile.so: undefined reference to `std::__detail::_List_node_base::_M_transfer(std::__detail::_List_node_base*, std::__detail::_List_node_base*)@GLIBCXX_3.4.15'\n",
      "/raid/toxicity/miniconda3/envs/Hinvec/compiler_compat/ld: /usr/local/cuda/lib64/libcufile.so: undefined reference to `std::string::replace(unsigned long, unsigned long, char const*, unsigned long)@GLIBCXX_3.4'\n",
      "/raid/toxicity/miniconda3/envs/Hinvec/compiler_compat/ld: /usr/local/cuda/lib64/libcufile.so: undefined reference to `typeinfo for std::exception@GLIBCXX_3.4'\n",
      "/raid/toxicity/miniconda3/envs/Hinvec/compiler_compat/ld: /usr/local/cuda/lib64/libcufile.so: undefined reference to `std::basic_string<wchar_t, std::char_traits<wchar_t>, std::allocator<wchar_t> >::_Rep::_M_destroy(std::allocator<wchar_t> const&)@GLIBCXX_3.4'\n",
      "/raid/toxicity/miniconda3/envs/Hinvec/compiler_compat/ld: /usr/local/cuda/lib64/libcufile.so: undefined reference to `std::istream& std::istream::_M_extract<double>(double&)@GLIBCXX_3.4.9'\n",
      "/raid/toxicity/miniconda3/envs/Hinvec/compiler_compat/ld: /usr/local/cuda/lib64/libcufile.so: undefined reference to `std::basic_filebuf<char, std::char_traits<char> >::close()@GLIBCXX_3.4'\n",
      "/raid/toxicity/miniconda3/envs/Hinvec/compiler_compat/ld: /usr/local/cuda/lib64/libcufile.so: undefined reference to `vtable for std::basic_fstream<char, std::char_traits<char> >@GLIBCXX_3.4'\n",
      "/raid/toxicity/miniconda3/envs/Hinvec/compiler_compat/ld: /usr/local/cuda/lib64/libcufile.so: undefined reference to `std::basic_ifstream<char, std::char_traits<char> >::basic_ifstream(char const*, std::_Ios_Openmode)@GLIBCXX_3.4'\n",
      "/raid/toxicity/miniconda3/envs/Hinvec/compiler_compat/ld: /usr/local/cuda/lib64/libcufile.so: undefined reference to `std::string::append(std::string const&)@GLIBCXX_3.4'\n",
      "/raid/toxicity/miniconda3/envs/Hinvec/compiler_compat/ld: /usr/local/cuda/lib64/libcufile.so: undefined reference to `operator new(unsigned long)@GLIBCXX_3.4'\n",
      "/raid/toxicity/miniconda3/envs/Hinvec/compiler_compat/ld: /usr/local/cuda/lib64/libcufile.so: undefined reference to `VTT for std::basic_istringstream<wchar_t, std::char_traits<wchar_t>, std::allocator<wchar_t> >@GLIBCXX_3.4'\n",
      "/raid/toxicity/miniconda3/envs/Hinvec/compiler_compat/ld: /usr/local/cuda/lib64/libcufile.so: undefined reference to `typeinfo for unsigned int@CXXABI_1.3'\n",
      "/raid/toxicity/miniconda3/envs/Hinvec/compiler_compat/ld: /usr/local/cuda/lib64/libcufile.so: undefined reference to `std::string::append(char const*)@GLIBCXX_3.4'\n",
      "/raid/toxicity/miniconda3/envs/Hinvec/compiler_compat/ld: /usr/local/cuda/lib64/libcufile.so: undefined reference to `vtable for std::domain_error@GLIBCXX_3.4'\n",
      "/raid/toxicity/miniconda3/envs/Hinvec/compiler_compat/ld: /usr/local/cuda/lib64/libcufile.so: undefined reference to `std::string::find(char, unsigned long) const@GLIBCXX_3.4'\n",
      "/raid/toxicity/miniconda3/envs/Hinvec/compiler_compat/ld: /usr/local/cuda/lib64/libcufile.so: undefined reference to `std::ostream::put(char)@GLIBCXX_3.4'\n",
      "/raid/toxicity/miniconda3/envs/Hinvec/compiler_compat/ld: /usr/local/cuda/lib64/libcufile.so: undefined reference to `typeinfo for int@CXXABI_1.3'\n",
      "/raid/toxicity/miniconda3/envs/Hinvec/compiler_compat/ld: /usr/local/cuda/lib64/libcufile.so: undefined reference to `std::__throw_bad_alloc()@GLIBCXX_3.4'\n",
      "/raid/toxicity/miniconda3/envs/Hinvec/compiler_compat/ld: /usr/local/cuda/lib64/libcufile.so: undefined reference to `__cxa_thread_atexit@CXXABI_1.3.7'\n",
      "/raid/toxicity/miniconda3/envs/Hinvec/compiler_compat/ld: /usr/local/cuda/lib64/libcufile.so: undefined reference to `typeinfo for unsigned int*@CXXABI_1.3'\n",
      "/raid/toxicity/miniconda3/envs/Hinvec/compiler_compat/ld: /usr/local/cuda/lib64/libcufile.so: undefined reference to `std::_Rb_tree_increment(std::_Rb_tree_node_base*)@GLIBCXX_3.4'\n",
      "/raid/toxicity/miniconda3/envs/Hinvec/compiler_compat/ld: /usr/local/cuda/lib64/libcufile.so: undefined reference to `std::basic_ifstream<char, std::char_traits<char> >::~basic_ifstream()@GLIBCXX_3.4'\n",
      "/raid/toxicity/miniconda3/envs/Hinvec/compiler_compat/ld: /usr/local/cuda/lib64/libcufile.so: undefined reference to `std::ios_base::Init::Init()@GLIBCXX_3.4'\n",
      "/raid/toxicity/miniconda3/envs/Hinvec/compiler_compat/ld: /usr/local/cuda/lib64/libcufile.so: undefined reference to `std::condition_variable::condition_variable()@GLIBCXX_3.4.11'\n",
      "/raid/toxicity/miniconda3/envs/Hinvec/compiler_compat/ld: /usr/local/cuda/lib64/libcufile.so: undefined reference to `std::basic_filebuf<char, std::char_traits<char> >::basic_filebuf()@GLIBCXX_3.4'\n",
      "/raid/toxicity/miniconda3/envs/Hinvec/compiler_compat/ld: /usr/local/cuda/lib64/libcufile.so: undefined reference to `VTT for std::basic_istringstream<char, std::char_traits<char>, std::allocator<char> >@GLIBCXX_3.4'\n",
      "/raid/toxicity/miniconda3/envs/Hinvec/compiler_compat/ld: /usr/local/cuda/lib64/libcufile.so: undefined reference to `std::domain_error::~domain_error()@GLIBCXX_3.4'\n",
      "/raid/toxicity/miniconda3/envs/Hinvec/compiler_compat/ld: /usr/local/cuda/lib64/libcufile.so: undefined reference to `std::cerr@GLIBCXX_3.4'\n",
      "/raid/toxicity/miniconda3/envs/Hinvec/compiler_compat/ld: /usr/local/cuda/lib64/libcufile.so: undefined reference to `std::string::find(char const*, unsigned long, unsigned long) const@GLIBCXX_3.4'\n",
      "/raid/toxicity/miniconda3/envs/Hinvec/compiler_compat/ld: /usr/local/cuda/lib64/libcufile.so: undefined reference to `vtable for std::basic_istringstream<char, std::char_traits<char>, std::allocator<char> >@GLIBCXX_3.4'\n",
      "/raid/toxicity/miniconda3/envs/Hinvec/compiler_compat/ld: /usr/local/cuda/lib64/libcufile.so: undefined reference to `std::basic_string<char, std::char_traits<char>, std::allocator<char> >::basic_string(std::allocator<char> const&)@GLIBCXX_3.4'\n",
      "/raid/toxicity/miniconda3/envs/Hinvec/compiler_compat/ld: /usr/local/cuda/lib64/libcufile.so: undefined reference to `std::basic_stringbuf<char, std::char_traits<char>, std::allocator<char> >::str() const@GLIBCXX_3.4'\n",
      "/raid/toxicity/miniconda3/envs/Hinvec/compiler_compat/ld: /usr/local/cuda/lib64/libcufile.so: undefined reference to `vtable for std::invalid_argument@GLIBCXX_3.4'\n",
      "/raid/toxicity/miniconda3/envs/Hinvec/compiler_compat/ld: /usr/local/cuda/lib64/libcufile.so: undefined reference to `typeinfo for void*@CXXABI_1.3'\n",
      "/raid/toxicity/miniconda3/envs/Hinvec/compiler_compat/ld: /usr/local/cuda/lib64/libcufile.so: undefined reference to `std::string::assign(std::string const&)@GLIBCXX_3.4'\n",
      "/raid/toxicity/miniconda3/envs/Hinvec/compiler_compat/ld: /usr/local/cuda/lib64/libcufile.so: undefined reference to `std::basic_ostringstream<char, std::char_traits<char>, std::allocator<char> >::~basic_ostringstream()@GLIBCXX_3.4'\n",
      "/raid/toxicity/miniconda3/envs/Hinvec/compiler_compat/ld: /usr/local/cuda/lib64/libcufile.so: undefined reference to `std::_Rb_tree_rebalance_for_erase(std::_Rb_tree_node_base*, std::_Rb_tree_node_base&)@GLIBCXX_3.4'\n",
      "/raid/toxicity/miniconda3/envs/Hinvec/compiler_compat/ld: /usr/local/cuda/lib64/libcufile.so: undefined reference to `typeinfo for unsigned long@CXXABI_1.3'\n",
      "/raid/toxicity/miniconda3/envs/Hinvec/compiler_compat/ld: /usr/local/cuda/lib64/libcufile.so: undefined reference to `std::__detail::_List_node_base::_M_hook(std::__detail::_List_node_base*)@GLIBCXX_3.4.15'\n",
      "/raid/toxicity/miniconda3/envs/Hinvec/compiler_compat/ld: /usr/local/cuda/lib64/libcufile.so: undefined reference to `std::__detail::_List_node_base::_M_unhook()@GLIBCXX_3.4.15'\n",
      "/raid/toxicity/miniconda3/envs/Hinvec/compiler_compat/ld: /usr/local/cuda/lib64/libcufile.so: undefined reference to `vtable for std::basic_ostringstream<wchar_t, std::char_traits<wchar_t>, std::allocator<wchar_t> >@GLIBCXX_3.4'\n",
      "/raid/toxicity/miniconda3/envs/Hinvec/compiler_compat/ld: /usr/local/cuda/lib64/libcufile.so: undefined reference to `std::basic_stringbuf<char, std::char_traits<char>, std::allocator<char> >::_M_sync(char*, unsigned long, unsigned long)@GLIBCXX_3.4'\n",
      "/raid/toxicity/miniconda3/envs/Hinvec/compiler_compat/ld: /usr/local/cuda/lib64/libcufile.so: undefined reference to `std::basic_iostream<char, std::char_traits<char> >::~basic_iostream()@GLIBCXX_3.4'\n",
      "/raid/toxicity/miniconda3/envs/Hinvec/compiler_compat/ld: /usr/local/cuda/lib64/libcufile.so: undefined reference to `std::locale::locale(std::locale const&)@GLIBCXX_3.4'\n",
      "/raid/toxicity/miniconda3/envs/Hinvec/compiler_compat/ld: /usr/local/cuda/lib64/libcufile.so: undefined reference to `vtable for std::basic_istringstream<wchar_t, std::char_traits<wchar_t>, std::allocator<wchar_t> >@GLIBCXX_3.4'\n",
      "/raid/toxicity/miniconda3/envs/Hinvec/compiler_compat/ld: /usr/local/cuda/lib64/libcufile.so: undefined reference to `log2f@GLIBC_2.2.5'\n",
      "/raid/toxicity/miniconda3/envs/Hinvec/compiler_compat/ld: /usr/local/cuda/lib64/libcufile.so: undefined reference to `std::ostream::operator<<(std::basic_streambuf<char, std::char_traits<char> >*)@GLIBCXX_3.4'\n",
      "/raid/toxicity/miniconda3/envs/Hinvec/compiler_compat/ld: /usr/local/cuda/lib64/libcufile.so: undefined reference to `vtable for std::basic_streambuf<wchar_t, std::char_traits<wchar_t> >@GLIBCXX_3.4'\n",
      "/raid/toxicity/miniconda3/envs/Hinvec/compiler_compat/ld: /usr/local/cuda/lib64/libcufile.so: undefined reference to `std::exception::~exception()@GLIBCXX_3.4'\n",
      "/raid/toxicity/miniconda3/envs/Hinvec/compiler_compat/ld: /usr/local/cuda/lib64/libcufile.so: undefined reference to `std::string::_Rep::_S_create(unsigned long, unsigned long, std::allocator<char> const&)@GLIBCXX_3.4'\n",
      "/raid/toxicity/miniconda3/envs/Hinvec/compiler_compat/ld: /usr/local/cuda/lib64/libcufile.so: undefined reference to `std::__basic_file<char>::is_open() const@GLIBCXX_3.4'\n",
      "/raid/toxicity/miniconda3/envs/Hinvec/compiler_compat/ld: /usr/local/cuda/lib64/libcufile.so: undefined reference to `std::basic_istringstream<char, std::char_traits<char>, std::allocator<char> >::~basic_istringstream()@GLIBCXX_3.4'\n",
      "/raid/toxicity/miniconda3/envs/Hinvec/compiler_compat/ld: /usr/local/cuda/lib64/libcufile.so: undefined reference to `std::string::swap(std::string&)@GLIBCXX_3.4'\n",
      "/raid/toxicity/miniconda3/envs/Hinvec/compiler_compat/ld: /usr/local/cuda/lib64/libcufile.so: undefined reference to `vtable for std::basic_ostringstream<char, std::char_traits<char>, std::allocator<char> >@GLIBCXX_3.4'\n",
      "/raid/toxicity/miniconda3/envs/Hinvec/compiler_compat/ld: /usr/local/cuda/lib64/libcufile.so: undefined reference to `std::basic_streambuf<char, std::char_traits<char> >::basic_streambuf(std::basic_streambuf<char, std::char_traits<char> > const&)@GLIBCXX_3.4'\n",
      "/raid/toxicity/miniconda3/envs/Hinvec/compiler_compat/ld: /usr/local/cuda/lib64/libcufile.so: undefined reference to `std::basic_ios<char, std::char_traits<char> >::init(std::basic_streambuf<char, std::char_traits<char> >*)@GLIBCXX_3.4'\n",
      "/raid/toxicity/miniconda3/envs/Hinvec/compiler_compat/ld: /usr/local/cuda/lib64/libcufile.so: undefined reference to `std::__throw_bad_cast()@GLIBCXX_3.4'\n",
      "/raid/toxicity/miniconda3/envs/Hinvec/compiler_compat/ld: /usr/local/cuda/lib64/libcufile.so: undefined reference to `std::basic_ios<char, std::char_traits<char> >::clear(std::_Ios_Iostate)@GLIBCXX_3.4'\n",
      "/raid/toxicity/miniconda3/envs/Hinvec/compiler_compat/ld: /usr/local/cuda/lib64/libcufile.so: undefined reference to `std::basic_streambuf<wchar_t, std::char_traits<wchar_t> >::operator=(std::basic_streambuf<wchar_t, std::char_traits<wchar_t> > const&)@GLIBCXX_3.4'\n",
      "/raid/toxicity/miniconda3/envs/Hinvec/compiler_compat/ld: /usr/local/cuda/lib64/libcufile.so: undefined reference to `typeinfo for long*@CXXABI_1.3'\n",
      "/raid/toxicity/miniconda3/envs/Hinvec/compiler_compat/ld: /usr/local/cuda/lib64/libcufile.so: undefined reference to `operator delete(void*)@GLIBCXX_3.4'\n",
      "/raid/toxicity/miniconda3/envs/Hinvec/compiler_compat/ld: /usr/local/cuda/lib64/libcufile.so: undefined reference to `std::ostream::operator<<(int)@GLIBCXX_3.4'\n",
      "/raid/toxicity/miniconda3/envs/Hinvec/compiler_compat/ld: /usr/local/cuda/lib64/libcufile.so: undefined reference to `std::string::_Rep::_S_empty_rep_storage@GLIBCXX_3.4'\n",
      "/raid/toxicity/miniconda3/envs/Hinvec/compiler_compat/ld: /usr/local/cuda/lib64/libcufile.so: undefined reference to `std::string::_Rep::_M_destroy(std::allocator<char> const&)@GLIBCXX_3.4'\n",
      "/raid/toxicity/miniconda3/envs/Hinvec/compiler_compat/ld: /usr/local/cuda/lib64/libcufile.so: undefined reference to `std::basic_iostream<wchar_t, std::char_traits<wchar_t> >::~basic_iostream()@GLIBCXX_3.4'\n",
      "/raid/toxicity/miniconda3/envs/Hinvec/compiler_compat/ld: /usr/local/cuda/lib64/libcufile.so: undefined reference to `vtable for std::runtime_error@GLIBCXX_3.4'\n",
      "/raid/toxicity/miniconda3/envs/Hinvec/compiler_compat/ld: /usr/local/cuda/lib64/libcufile.so: undefined reference to `vtable for std::basic_ofstream<char, std::char_traits<char> >@GLIBCXX_3.4'\n",
      "/raid/toxicity/miniconda3/envs/Hinvec/compiler_compat/ld: /usr/local/cuda/lib64/libcufile.so: undefined reference to `std::_Rb_tree_insert_and_rebalance(bool, std::_Rb_tree_node_base*, std::_Rb_tree_node_base*, std::_Rb_tree_node_base&)@GLIBCXX_3.4'\n",
      "/raid/toxicity/miniconda3/envs/Hinvec/compiler_compat/ld: /usr/local/cuda/lib64/libcufile.so: undefined reference to `std::basic_stringstream<char, std::char_traits<char>, std::allocator<char> >::~basic_stringstream()@GLIBCXX_3.4'\n",
      "/raid/toxicity/miniconda3/envs/Hinvec/compiler_compat/ld: /usr/local/cuda/lib64/libcufile.so: undefined reference to `VTT for std::basic_stringstream<wchar_t, std::char_traits<wchar_t>, std::allocator<wchar_t> >@GLIBCXX_3.4'\n",
      "/raid/toxicity/miniconda3/envs/Hinvec/compiler_compat/ld: /usr/local/cuda/lib64/libcufile.so: undefined reference to `std::ostream& std::ostream::_M_insert<long>(long)@GLIBCXX_3.4.9'\n",
      "/raid/toxicity/miniconda3/envs/Hinvec/compiler_compat/ld: /usr/local/cuda/lib64/libcufile.so: undefined reference to `std::istream::get()@GLIBCXX_3.4'\n",
      "/raid/toxicity/miniconda3/envs/Hinvec/compiler_compat/ld: /usr/local/cuda/lib64/libcufile.so: undefined reference to `typeinfo for unsigned long long@CXXABI_1.3'\n",
      "/raid/toxicity/miniconda3/envs/Hinvec/compiler_compat/ld: /usr/local/cuda/lib64/libcufile.so: undefined reference to `std::basic_ostream<char, std::char_traits<char> >& std::operator<< <std::char_traits<char> >(std::basic_ostream<char, std::char_traits<char> >&, char const*)@GLIBCXX_3.4'\n",
      "/raid/toxicity/miniconda3/envs/Hinvec/compiler_compat/ld: /usr/local/cuda/lib64/libcufile.so: undefined reference to `std::out_of_range::~out_of_range()@GLIBCXX_3.4'\n",
      "/raid/toxicity/miniconda3/envs/Hinvec/compiler_compat/ld: /usr/local/cuda/lib64/libcufile.so: undefined reference to `std::length_error::~length_error()@GLIBCXX_3.4'\n",
      "/raid/toxicity/miniconda3/envs/Hinvec/compiler_compat/ld: /usr/local/cuda/lib64/libcufile.so: undefined reference to `std::basic_ostream<char, std::char_traits<char> >& std::__ostream_insert<char, std::char_traits<char> >(std::basic_ostream<char, std::char_traits<char> >&, char const*, long)@GLIBCXX_3.4.9'\n",
      "/raid/toxicity/miniconda3/envs/Hinvec/compiler_compat/ld: /usr/local/cuda/lib64/libcufile.so: undefined reference to `std::invalid_argument::~invalid_argument()@GLIBCXX_3.4'\n",
      "/raid/toxicity/miniconda3/envs/Hinvec/compiler_compat/ld: /usr/local/cuda/lib64/libcufile.so: undefined reference to `std::basic_string<wchar_t, std::char_traits<wchar_t>, std::allocator<wchar_t> >::swap(std::basic_string<wchar_t, std::char_traits<wchar_t>, std::allocator<wchar_t> >&)@GLIBCXX_3.4'\n",
      "/raid/toxicity/miniconda3/envs/Hinvec/compiler_compat/ld: /usr/local/cuda/lib64/libcufile.so: undefined reference to `std::cout@GLIBCXX_3.4'\n",
      "/raid/toxicity/miniconda3/envs/Hinvec/compiler_compat/ld: /usr/local/cuda/lib64/libcufile.so: undefined reference to `std::ostream& std::ostream::_M_insert<unsigned long long>(unsigned long long)@GLIBCXX_3.4.9'\n",
      "/raid/toxicity/miniconda3/envs/Hinvec/compiler_compat/ld: /usr/local/cuda/lib64/libcufile.so: undefined reference to `std::ostream& std::ostream::_M_insert<void const*>(void const*)@GLIBCXX_3.4.9'\n",
      "/raid/toxicity/miniconda3/envs/Hinvec/compiler_compat/ld: /usr/local/cuda/lib64/libcufile.so: undefined reference to `vtable for std::underflow_error@GLIBCXX_3.4'\n",
      "/raid/toxicity/miniconda3/envs/Hinvec/compiler_compat/ld: /usr/local/cuda/lib64/libcufile.so: undefined reference to `vtable for std::basic_streambuf<char, std::char_traits<char> >@GLIBCXX_3.4'\n",
      "/raid/toxicity/miniconda3/envs/Hinvec/compiler_compat/ld: /usr/local/cuda/lib64/libcufile.so: undefined reference to `typeinfo for std::out_of_range@GLIBCXX_3.4'\n",
      "/raid/toxicity/miniconda3/envs/Hinvec/compiler_compat/ld: /usr/local/cuda/lib64/libcufile.so: undefined reference to `__cxa_allocate_exception@CXXABI_1.3'\n",
      "/raid/toxicity/miniconda3/envs/Hinvec/compiler_compat/ld: /usr/local/cuda/lib64/libcufile.so: undefined reference to `vtable for std::basic_ios<wchar_t, std::char_traits<wchar_t> >@GLIBCXX_3.4'\n",
      "/raid/toxicity/miniconda3/envs/Hinvec/compiler_compat/ld: /usr/local/cuda/lib64/libcufile.so: undefined reference to `typeinfo for void const*@CXXABI_1.3'\n",
      "/raid/toxicity/miniconda3/envs/Hinvec/compiler_compat/ld: /usr/local/cuda/lib64/libcufile.so: undefined reference to `std::basic_ios<wchar_t, std::char_traits<wchar_t> >::init(std::basic_streambuf<wchar_t, std::char_traits<wchar_t> >*)@GLIBCXX_3.4'\n",
      "/raid/toxicity/miniconda3/envs/Hinvec/compiler_compat/ld: /usr/local/cuda/lib64/libcufile.so: undefined reference to `std::string::reserve(unsigned long)@GLIBCXX_3.4'\n",
      "/raid/toxicity/miniconda3/envs/Hinvec/compiler_compat/ld: /usr/local/cuda/lib64/libcufile.so: undefined reference to `__cxa_begin_catch@CXXABI_1.3'\n",
      "/raid/toxicity/miniconda3/envs/Hinvec/compiler_compat/ld: /usr/local/cuda/lib64/libcufile.so: undefined reference to `typeinfo for long@CXXABI_1.3'\n",
      "/raid/toxicity/miniconda3/envs/Hinvec/compiler_compat/ld: /usr/local/cuda/lib64/libcufile.so: undefined reference to `std::basic_string<wchar_t, std::char_traits<wchar_t>, std::allocator<wchar_t> >::_Rep::_S_empty_rep_storage@GLIBCXX_3.4'\n",
      "/raid/toxicity/miniconda3/envs/Hinvec/compiler_compat/ld: /usr/local/cuda/lib64/libcufile.so: undefined reference to `std::string::_M_leak()@GLIBCXX_3.4'\n",
      "/raid/toxicity/miniconda3/envs/Hinvec/compiler_compat/ld: /usr/local/cuda/lib64/libcufile.so: undefined reference to `std::basic_filebuf<char, std::char_traits<char> >::open(char const*, std::_Ios_Openmode)@GLIBCXX_3.4'\n",
      "/raid/toxicity/miniconda3/envs/Hinvec/compiler_compat/ld: /usr/local/cuda/lib64/libcufile.so: undefined reference to `std::basic_stringbuf<wchar_t, std::char_traits<wchar_t>, std::allocator<wchar_t> >::_M_sync(wchar_t*, unsigned long, unsigned long)@GLIBCXX_3.4'\n",
      "/raid/toxicity/miniconda3/envs/Hinvec/compiler_compat/ld: /usr/local/cuda/lib64/libcufile.so: undefined reference to `std::istream::getline(char*, long, char)@GLIBCXX_3.4'\n",
      "/raid/toxicity/miniconda3/envs/Hinvec/compiler_compat/ld: /usr/local/cuda/lib64/libcufile.so: undefined reference to `std::basic_istream<char, std::char_traits<char> >& std::getline<char, std::char_traits<char>, std::allocator<char> >(std::basic_istream<char, std::char_traits<char> >&, std::basic_string<char, std::char_traits<char>, std::allocator<char> >&, char)@GLIBCXX_3.4'\n",
      "/raid/toxicity/miniconda3/envs/Hinvec/compiler_compat/ld: /usr/local/cuda/lib64/libcufile.so: undefined reference to `vtable for std::basic_stringstream<wchar_t, std::char_traits<wchar_t>, std::allocator<wchar_t> >@GLIBCXX_3.4'\n",
      "/raid/toxicity/miniconda3/envs/Hinvec/compiler_compat/ld: /usr/local/cuda/lib64/libcufile.so: undefined reference to `std::condition_variable::~condition_variable()@GLIBCXX_3.4.11'\n",
      "/raid/toxicity/miniconda3/envs/Hinvec/compiler_compat/ld: /usr/local/cuda/lib64/libcufile.so: undefined reference to `vtable for std::basic_stringbuf<wchar_t, std::char_traits<wchar_t>, std::allocator<wchar_t> >@GLIBCXX_3.4'\n",
      "/raid/toxicity/miniconda3/envs/Hinvec/compiler_compat/ld: /usr/local/cuda/lib64/libcufile.so: undefined reference to `std::string::insert(unsigned long, char const*, unsigned long)@GLIBCXX_3.4'\n",
      "/raid/toxicity/miniconda3/envs/Hinvec/compiler_compat/ld: /usr/local/cuda/lib64/libcufile.so: undefined reference to `std::string::assign(char const*, unsigned long)@GLIBCXX_3.4'\n",
      "/raid/toxicity/miniconda3/envs/Hinvec/compiler_compat/ld: /usr/local/cuda/lib64/libcufile.so: undefined reference to `typeinfo for unsigned char@CXXABI_1.3'\n",
      "/raid/toxicity/miniconda3/envs/Hinvec/compiler_compat/ld: /usr/local/cuda/lib64/libcufile.so: undefined reference to `std::ios_base::ios_base()@GLIBCXX_3.4'\n",
      "/raid/toxicity/miniconda3/envs/Hinvec/compiler_compat/ld: /usr/local/cuda/lib64/libcufile.so: undefined reference to `std::__throw_out_of_range(char const*)@GLIBCXX_3.4'\n",
      "/raid/toxicity/miniconda3/envs/Hinvec/compiler_compat/ld: /usr/local/cuda/lib64/libcufile.so: undefined reference to `std::overflow_error::~overflow_error()@GLIBCXX_3.4'\n",
      "/raid/toxicity/miniconda3/envs/Hinvec/compiler_compat/ld: /usr/local/cuda/lib64/libcufile.so: undefined reference to `std::__throw_length_error(char const*)@GLIBCXX_3.4'\n",
      "/raid/toxicity/miniconda3/envs/Hinvec/compiler_compat/ld: /usr/local/cuda/lib64/libcufile.so: undefined reference to `std::__throw_system_error(int)@GLIBCXX_3.4.11'\n",
      "/raid/toxicity/miniconda3/envs/Hinvec/compiler_compat/ld: /usr/local/cuda/lib64/libcufile.so: undefined reference to `std::basic_ofstream<char, std::char_traits<char> >::close()@GLIBCXX_3.4'\n",
      "/raid/toxicity/miniconda3/envs/Hinvec/compiler_compat/ld: /usr/local/cuda/lib64/libcufile.so: undefined reference to `std::ostream& std::ostream::_M_insert<double>(double)@GLIBCXX_3.4.9'\n",
      "/raid/toxicity/miniconda3/envs/Hinvec/compiler_compat/ld: /usr/local/cuda/lib64/libcufile.so: undefined reference to `std::basic_streambuf<char, std::char_traits<char> >::operator=(std::basic_streambuf<char, std::char_traits<char> > const&)@GLIBCXX_3.4'\n",
      "/raid/toxicity/miniconda3/envs/Hinvec/compiler_compat/ld: /usr/local/cuda/lib64/libcufile.so: undefined reference to `typeinfo for long long@CXXABI_1.3'\n",
      "/raid/toxicity/miniconda3/envs/Hinvec/compiler_compat/ld: /usr/local/cuda/lib64/libcufile.so: undefined reference to `std::basic_string<char, std::char_traits<char>, std::allocator<char> >::basic_string(char const*, unsigned long, std::allocator<char> const&)@GLIBCXX_3.4'\n",
      "/raid/toxicity/miniconda3/envs/Hinvec/compiler_compat/ld: /usr/local/cuda/lib64/libcufile.so: undefined reference to `std::basic_ifstream<char, std::char_traits<char> >::close()@GLIBCXX_3.4'\n",
      "/raid/toxicity/miniconda3/envs/Hinvec/compiler_compat/ld: /usr/local/cuda/lib64/libcufile.so: undefined reference to `__cxa_guard_release@CXXABI_1.3'\n",
      "/raid/toxicity/miniconda3/envs/Hinvec/compiler_compat/ld: /usr/local/cuda/lib64/libcufile.so: undefined reference to `__cxa_throw@CXXABI_1.3'\n",
      "/raid/toxicity/miniconda3/envs/Hinvec/compiler_compat/ld: /usr/local/cuda/lib64/libcufile.so: undefined reference to `std::underflow_error::~underflow_error()@GLIBCXX_3.4'\n",
      "/raid/toxicity/miniconda3/envs/Hinvec/compiler_compat/ld: /usr/local/cuda/lib64/libcufile.so: undefined reference to `std::_Rb_tree_decrement(std::_Rb_tree_node_base*)@GLIBCXX_3.4'\n",
      "/raid/toxicity/miniconda3/envs/Hinvec/compiler_compat/ld: /usr/local/cuda/lib64/libcufile.so: undefined reference to `vtable for std::length_error@GLIBCXX_3.4'\n",
      "/raid/toxicity/miniconda3/envs/Hinvec/compiler_compat/ld: /usr/local/cuda/lib64/libcufile.so: undefined reference to `std::basic_filebuf<char, std::char_traits<char> >::~basic_filebuf()@GLIBCXX_3.4'\n",
      "collect2: error: ld returned 1 exit status\n"
     ]
    },
    {
     "data": {
      "text/plain": [
       "DatasetDict({\n",
       "    test: Dataset({\n",
       "        features: ['kan_Knda', 'brx_Deva', 'hin_Deva', 'urd_Arab', 'tam_Taml', 'mni_Mtei', 'tel_Telu', 'ory_Orya', 'eng_Latn', 'kas_Arab', 'pan_Guru', 'snd_Deva', 'asm_Beng', 'gom_Deva', 'npi_Deva', 'mal_Mlym', 'doi_Deva', 'sat_Olck', 'mai_Deva', 'ben_Beng', 'san_Deva', 'mar_Deva', 'guj_Gujr'],\n",
       "        num_rows: 1503\n",
       "    })\n",
       "})"
      ]
     },
     "execution_count": 1,
     "metadata": {},
     "output_type": "execute_result"
    }
   ],
   "source": [
    "from mteb.tasks import IN22ConvBitextMining\n",
    "\n",
    "task = IN22ConvBitextMining()\n",
    "task.load_data()\n",
    "task.dataset"
   ]
  },
  {
   "cell_type": "code",
   "execution_count": 5,
   "id": "7507bce6",
   "metadata": {},
   "outputs": [
    {
     "data": {
      "text/plain": [
       "{'kan_Knda': 'ಅವ್ರು ತಾರತಮ್ಯದ ವಿರುದ್ಧ ವ್ಯಾಪಕವಾದ ಚಳುವಳಿಗಳನ್ನ ನಡ್ಸಿ ಕೊನೆಗೂ ವಿಜಯಶಾಲಿಯಾದ್ರು.',\n",
       " 'brx_Deva': 'बिथाङा गुवारै गोजौ-गाहाय थाखो बासिलायनायनि हेंथायै सोमावसारदोंमोन आरो देरहासार जानो हादोंमोन।',\n",
       " 'hin_Deva': 'उन्होंने बड़े पैमाने में भेदभाव के खिलाफ लड़ाई की और जीत हासिल की।',\n",
       " 'urd_Arab': 'انہوں نے امتیازات کے خلاف وسیع پیمانے پر مہم چلائی اور کامیاب رہے۔',\n",
       " 'tam_Taml': 'பாரபட்சத்திற்கு எதிராக அவர் போராட்டம் செய்து வெற்றியும் அடைந்தார்.',\n",
       " 'mni_Mtei': 'ꯃꯍꯥꯛꯅ ꯈꯦꯠꯅꯕ ꯊꯝꯕꯒꯤ ꯃꯥꯌꯣꯛꯇ ꯄꯥꯛ-ꯁꯟꯅ ꯀꯦꯝꯄꯦꯟ ꯇꯧꯀꯤ ꯑꯗꯨꯒ ꯃꯥꯏ ꯄꯥꯛꯈꯤ꯫',\n",
       " 'tel_Telu': 'ఆయన వివక్షపై విశేషంగా ఉద్యమించి గెలుపు సాధించారు.',\n",
       " 'ory_Orya': 'ସେ ଭେଦଭାବ ବିରୋଧରେ ବ୍ୟାପକ ଅଭିଯାନ ଚଳାଇଥିଲେ ଓ ସଫଳକାମ ହୋଇଥିଲେ।',\n",
       " 'eng_Latn': 'He extensively campaigned against the discrimination and came out victorious.',\n",
       " 'kas_Arab': 'أمۍ چلٲو امتیٲزی سلوکَس خِلاف وسیع پیمانَس پیٹھ مُہِم تہٕ گوٚو فتح یاب۔',\n",
       " 'pan_Guru': 'ਓਨ੍ਹਾਂ ਨੇ ਵਿਤਕਰੇ ਵਿਰੁੱਧ ਵਿਆਪਕ ਮੁਹਿੰਮ ਚਲਾਈ ਅਤੇ ਜਿੱਤ ਪ੍ਰਾਪਤ ਕੀਤੀ|',\n",
       " 'snd_Deva': 'हिन ज़ाति-पाति जे भेद साम्हूं वॾे पैमाने ते मुहिम हलाई ऐं सोभारो थियो।',\n",
       " 'asm_Beng': 'তেওঁ বৰ্ণবৈষম্যৰ বিৰুদ্ধে ব্যাপকভাৱে আন্দোলন চলাইছিল আৰু বিজয়ী হৈছিল।',\n",
       " 'gom_Deva': 'ताणे भेदभावा आड नेटाची मोहीम राबयली आनी जैतीवंत जालो.',\n",
       " 'npi_Deva': 'उनले व्यापकरूपमा यस भेदभावका विरुद्ध अभियान चलाए अनि विजयी भए।',\n",
       " 'mal_Mlym': 'ആ വിവേചനത്തിനെതിരെ വ്യാപകമായി പ്രചാരണം നടത്തിയ അദ്ദേഹം വിജയിച്ചു.',\n",
       " 'doi_Deva': 'उʼनैं बड्डे पैमाने पर भेदभाव दे खलाफ म्हीम चलाई ते सफल होए।',\n",
       " 'sat_Olck': 'ᱩᱱᱤ ᱫᱚ ᱵᱷᱮᱯᱮᱜᱮᱫᱽ ᱵᱤᱨᱩᱫ ᱟᱭᱢᱟᱭ ᱯᱨᱚᱪᱟᱨᱟᱠᱟᱫᱟ ᱟᱨᱮ ᱡᱤᱛᱠᱟᱹᱨᱟᱠᱟᱱᱟ ᱾',\n",
       " 'mai_Deva': 'ओ भेदभावक विरुद्ध व्यापक रूपसँ अभियान चलौलनि आ विजेताक रूपमे सोझाँ अयलाह।',\n",
       " 'ben_Beng': 'তিনি বৈষম্যের বিরুদ্ধে প্রচুর প্রচারণা চালান এবং জয়ী হন।',\n",
       " 'san_Deva': 'सः भेदभावं विरुध्य प्रचारम् अकरोत् तथा यशस्वी च अभवत्।',\n",
       " 'mar_Deva': 'त्यांनी भेदभावाच्या विरुद्ध व्यापक लढा दिला आणि शेवटी ते विजयी ठरले.',\n",
       " 'guj_Gujr': 'તેમણે આ ભેદભાવ સામે વ્યાપકપણે લડત ચલાવી અને તેમાં વિજયી નીવડ્યા.'}"
      ]
     },
     "execution_count": 5,
     "metadata": {},
     "output_type": "execute_result"
    }
   ],
   "source": [
    "task.dataset['test'][23]"
   ]
  },
  {
   "cell_type": "code",
   "execution_count": 4,
   "id": "89f09641",
   "metadata": {},
   "outputs": [],
   "source": [
    "from transformers import AutoModel, AutoTokenizer\n",
    "from mteb_test import CustomModel\n",
    "\n",
    "base_model = AutoModel.from_pretrained('checkpoints/ganga-2-1b-embeddings-new-equall-finetune-mean-32-epoch-1/best_model')\n",
    "tokenizer = AutoTokenizer.from_pretrained(\"LingoIITGN/ganga-2-1b\")\n",
    "\n",
    "model = CustomModel(base_model, tokenizer, 'mean')"
   ]
  },
  {
   "cell_type": "code",
   "execution_count": null,
   "id": "2db69a90",
   "metadata": {},
   "outputs": [
    {
     "name": "stderr",
     "output_type": "stream",
     "text": [
      "Failed to extract metadata from model: 'CustomModel' object has no attribute 'model_card_data'. Upgrading to sentence-transformers v3.0.0 or above is recommended.\n"
     ]
    },
    {
     "data": {
      "text/html": [
       "<pre style=\"white-space:pre;overflow-x:auto;line-height:normal;font-family:Menlo,'DejaVu Sans Mono',consolas,'Courier New',monospace\"><span style=\"color: #262626; text-decoration-color: #262626\">───────────────────────────────────────────────── </span><span style=\"font-weight: bold\">Selected tasks </span><span style=\"color: #262626; text-decoration-color: #262626\"> ─────────────────────────────────────────────────</span>\n",
       "</pre>\n"
      ],
      "text/plain": [
       "\u001b[38;5;235m───────────────────────────────────────────────── \u001b[0m\u001b[1mSelected tasks \u001b[0m\u001b[38;5;235m ─────────────────────────────────────────────────\u001b[0m\n"
      ]
     },
     "metadata": {},
     "output_type": "display_data"
    },
    {
     "data": {
      "text/html": [
       "<pre style=\"white-space:pre;overflow-x:auto;line-height:normal;font-family:Menlo,'DejaVu Sans Mono',consolas,'Courier New',monospace\"><span style=\"font-weight: bold\">BitextMining</span>\n",
       "</pre>\n"
      ],
      "text/plain": [
       "\u001b[1mBitextMining\u001b[0m\n"
      ]
     },
     "metadata": {},
     "output_type": "display_data"
    },
    {
     "data": {
      "text/html": [
       "<pre style=\"white-space:pre;overflow-x:auto;line-height:normal;font-family:Menlo,'DejaVu Sans Mono',consolas,'Courier New',monospace\">    - IN22ConvBitextMining, <span style=\"color: #626262; text-decoration-color: #626262; font-style: italic\">s2s</span>, <span style=\"color: #800000; text-decoration-color: #800000; font-style: italic\">multilingual </span><span style=\"color: #800000; text-decoration-color: #800000; font-weight: bold; font-style: italic\">44</span><span style=\"color: #800000; text-decoration-color: #800000; font-style: italic\"> / </span><span style=\"color: #800000; text-decoration-color: #800000; font-weight: bold; font-style: italic\">506</span><span style=\"color: #800000; text-decoration-color: #800000; font-style: italic\"> Subsets</span>\n",
       "</pre>\n"
      ],
      "text/plain": [
       "    - IN22ConvBitextMining, \u001b[3;38;5;241ms2s\u001b[0m, \u001b[3;31mmultilingual \u001b[0m\u001b[1;3;31m44\u001b[0m\u001b[3;31m \u001b[0m\u001b[3;31m/\u001b[0m\u001b[3;31m \u001b[0m\u001b[1;3;31m506\u001b[0m\u001b[3;31m Subsets\u001b[0m\n"
      ]
     },
     "metadata": {},
     "output_type": "display_data"
    },
    {
     "data": {
      "text/html": [
       "<pre style=\"white-space:pre;overflow-x:auto;line-height:normal;font-family:Menlo,'DejaVu Sans Mono',consolas,'Courier New',monospace\">    - IN22GenBitextMining, <span style=\"color: #626262; text-decoration-color: #626262; font-style: italic\">s2s</span>, <span style=\"color: #800000; text-decoration-color: #800000; font-style: italic\">multilingual </span><span style=\"color: #800000; text-decoration-color: #800000; font-weight: bold; font-style: italic\">44</span><span style=\"color: #800000; text-decoration-color: #800000; font-style: italic\"> / </span><span style=\"color: #800000; text-decoration-color: #800000; font-weight: bold; font-style: italic\">506</span><span style=\"color: #800000; text-decoration-color: #800000; font-style: italic\"> Subsets</span>\n",
       "</pre>\n"
      ],
      "text/plain": [
       "    - IN22GenBitextMining, \u001b[3;38;5;241ms2s\u001b[0m, \u001b[3;31mmultilingual \u001b[0m\u001b[1;3;31m44\u001b[0m\u001b[3;31m \u001b[0m\u001b[3;31m/\u001b[0m\u001b[3;31m \u001b[0m\u001b[1;3;31m506\u001b[0m\u001b[3;31m Subsets\u001b[0m\n"
      ]
     },
     "metadata": {},
     "output_type": "display_data"
    },
    {
     "data": {
      "text/html": [
       "<pre style=\"white-space:pre;overflow-x:auto;line-height:normal;font-family:Menlo,'DejaVu Sans Mono',consolas,'Courier New',monospace\">\n",
       "\n",
       "</pre>\n"
      ],
      "text/plain": [
       "\n",
       "\n"
      ]
     },
     "metadata": {},
     "output_type": "display_data"
    },
    {
     "name": "stdout",
     "output_type": "stream",
     "text": [
      "#### [['asm_Beng', 'hin_Deva'], ['ben_Beng', 'hin_Deva'], ['brx_Deva', 'hin_Deva'], ['doi_Deva', 'hin_Deva'], ['eng_Latn', 'hin_Deva'], ['gom_Deva', 'hin_Deva'], ['guj_Gujr', 'hin_Deva'], ['hin_Deva', 'asm_Beng'], ['hin_Deva', 'ben_Beng'], ['hin_Deva', 'brx_Deva'], ['hin_Deva', 'doi_Deva'], ['hin_Deva', 'eng_Latn'], ['hin_Deva', 'gom_Deva'], ['hin_Deva', 'guj_Gujr'], ['hin_Deva', 'kan_Knda'], ['hin_Deva', 'kas_Arab'], ['hin_Deva', 'mai_Deva'], ['hin_Deva', 'mal_Mlym'], ['hin_Deva', 'mar_Deva'], ['hin_Deva', 'mni_Mtei'], ['hin_Deva', 'npi_Deva'], ['hin_Deva', 'ory_Orya'], ['hin_Deva', 'pan_Guru'], ['hin_Deva', 'san_Deva'], ['hin_Deva', 'sat_Olck'], ['hin_Deva', 'snd_Deva'], ['hin_Deva', 'tam_Taml'], ['hin_Deva', 'tel_Telu'], ['hin_Deva', 'urd_Arab'], ['kan_Knda', 'hin_Deva'], ['kas_Arab', 'hin_Deva'], ['mai_Deva', 'hin_Deva'], ['mal_Mlym', 'hin_Deva'], ['mar_Deva', 'hin_Deva'], ['mni_Mtei', 'hin_Deva'], ['npi_Deva', 'hin_Deva'], ['ory_Orya', 'hin_Deva'], ['pan_Guru', 'hin_Deva'], ['san_Deva', 'hin_Deva'], ['sat_Olck', 'hin_Deva'], ['snd_Deva', 'hin_Deva'], ['tam_Taml', 'hin_Deva'], ['tel_Telu', 'hin_Deva'], ['urd_Arab', 'hin_Deva']] ####\n"
     ]
    },
    {
     "name": "stderr",
     "output_type": "stream",
     "text": [
      "Encoding 23x1503 sentences: 100%|██████████| 23/23 [02:35<00:00,  6.76s/it]\n",
      "Matching sentences: 100%|██████████| 44/44 [00:00<00:00, 49.60it/s]\n"
     ]
    },
    {
     "name": "stdout",
     "output_type": "stream",
     "text": [
      "#### [['asm_Beng', 'hin_Deva'], ['ben_Beng', 'hin_Deva'], ['brx_Deva', 'hin_Deva'], ['doi_Deva', 'hin_Deva'], ['eng_Latn', 'hin_Deva'], ['gom_Deva', 'hin_Deva'], ['guj_Gujr', 'hin_Deva'], ['hin_Deva', 'asm_Beng'], ['hin_Deva', 'ben_Beng'], ['hin_Deva', 'brx_Deva'], ['hin_Deva', 'doi_Deva'], ['hin_Deva', 'eng_Latn'], ['hin_Deva', 'gom_Deva'], ['hin_Deva', 'guj_Gujr'], ['hin_Deva', 'kan_Knda'], ['hin_Deva', 'kas_Arab'], ['hin_Deva', 'mai_Deva'], ['hin_Deva', 'mal_Mlym'], ['hin_Deva', 'mar_Deva'], ['hin_Deva', 'mni_Mtei'], ['hin_Deva', 'npi_Deva'], ['hin_Deva', 'ory_Orya'], ['hin_Deva', 'pan_Guru'], ['hin_Deva', 'san_Deva'], ['hin_Deva', 'sat_Olck'], ['hin_Deva', 'snd_Deva'], ['hin_Deva', 'tam_Taml'], ['hin_Deva', 'tel_Telu'], ['hin_Deva', 'urd_Arab'], ['kan_Knda', 'hin_Deva'], ['kas_Arab', 'hin_Deva'], ['mai_Deva', 'hin_Deva'], ['mal_Mlym', 'hin_Deva'], ['mar_Deva', 'hin_Deva'], ['mni_Mtei', 'hin_Deva'], ['npi_Deva', 'hin_Deva'], ['ory_Orya', 'hin_Deva'], ['pan_Guru', 'hin_Deva'], ['san_Deva', 'hin_Deva'], ['sat_Olck', 'hin_Deva'], ['snd_Deva', 'hin_Deva'], ['tam_Taml', 'hin_Deva'], ['tel_Telu', 'hin_Deva'], ['urd_Arab', 'hin_Deva']] ####\n"
     ]
    },
    {
     "name": "stderr",
     "output_type": "stream",
     "text": [
      "Encoding 23x1024 sentences:   4%|▍         | 1/23 [00:19<07:01, 19.18s/it]"
     ]
    }
   ],
   "source": [
    "import mteb\n",
    "tasks = mteb.get_tasks(tasks=['IN22ConvBitextMining','IN22GenBitextMining'], languages=['hin'])\n",
    "evaluation = mteb.MTEB(tasks=tasks)\n",
    "evaluation.run(model, encode_kwargs={\"batch_size\": 128}, output_folder=f\"results/testing\")"
   ]
  },
  {
   "cell_type": "markdown",
   "id": "07b1a160",
   "metadata": {},
   "source": [
    "IN22GenBitextMining"
   ]
  },
  {
   "cell_type": "code",
   "execution_count": 118,
   "id": "6a856e01",
   "metadata": {},
   "outputs": [
    {
     "data": {
      "text/plain": [
       "DatasetDict({\n",
       "    test: Dataset({\n",
       "        features: ['kan_Knda', 'brx_Deva', 'hin_Deva', 'urd_Arab', 'tam_Taml', 'mni_Mtei', 'tel_Telu', 'ory_Orya', 'eng_Latn', 'kas_Arab', 'pan_Guru', 'snd_Deva', 'asm_Beng', 'gom_Deva', 'npi_Deva', 'mal_Mlym', 'doi_Deva', 'sat_Olck', 'mai_Deva', 'ben_Beng', 'san_Deva', 'mar_Deva', 'guj_Gujr'],\n",
       "        num_rows: 1024\n",
       "    })\n",
       "})"
      ]
     },
     "execution_count": 118,
     "metadata": {},
     "output_type": "execute_result"
    }
   ],
   "source": [
    "from mteb.tasks import IN22GenBitextMining\n",
    "\n",
    "task = IN22GenBitextMining()\n",
    "task.load_data()\n",
    "task.dataset"
   ]
  },
  {
   "cell_type": "markdown",
   "id": "734feea3",
   "metadata": {},
   "source": [
    "IndicGenBenchFloresBitextMining"
   ]
  },
  {
   "cell_type": "code",
   "execution_count": 143,
   "id": "52c626d1",
   "metadata": {},
   "outputs": [],
   "source": [
    "from mteb.tasks import IndicGenBenchFloresBitextMining\n",
    "\n",
    "task = IndicGenBenchFloresBitextMining()\n",
    "task.load_data()"
   ]
  },
  {
   "cell_type": "code",
   "execution_count": 144,
   "id": "896938c7",
   "metadata": {},
   "outputs": [
    {
     "data": {
      "text/plain": [
       "{'sentence1': 'वास्तविक उद्देश्य उन कंपनियों को अपने बाज़ारों पर अधिक नियंत्रण देना है; यह सब पैसे कताई है।',\n",
       " 'sentence2': \"The actual purpose is to give those companies more control over their markets; it's all about money spinning.\",\n",
       " 'lang': 'hi',\n",
       " 'translation_direction': 'xxen'}"
      ]
     },
     "execution_count": 144,
     "metadata": {},
     "output_type": "execute_result"
    }
   ],
   "source": [
    "task.dataset['hin-eng']['validation'][0]"
   ]
  },
  {
   "cell_type": "markdown",
   "id": "f811203c",
   "metadata": {},
   "source": [
    "LinceMTBitextMining"
   ]
  },
  {
   "cell_type": "code",
   "execution_count": 113,
   "id": "17fa567b",
   "metadata": {},
   "outputs": [
    {
     "data": {
      "text/plain": [
       "{'eng-eng_hin': DatasetDict({\n",
       "     train: Dataset({\n",
       "         features: ['sentence1', 'sentence2', 'lang'],\n",
       "         num_rows: 8059\n",
       "     })\n",
       " })}"
      ]
     },
     "execution_count": 113,
     "metadata": {},
     "output_type": "execute_result"
    }
   ],
   "source": [
    "from mteb.tasks import LinceMTBitextMining\n",
    "\n",
    "task = LinceMTBitextMining(sdds=['hin'])\n",
    "task.load_data()\n",
    "task.dataset"
   ]
  },
  {
   "cell_type": "markdown",
   "id": "b06a72a6",
   "metadata": {},
   "source": [
    "SIB200ClusteringS2S"
   ]
  },
  {
   "cell_type": "code",
   "execution_count": 145,
   "id": "0c9e22df",
   "metadata": {},
   "outputs": [],
   "source": [
    "from mteb.tasks import SIB200ClusteringFast # evaluation dataset\n",
    "\n",
    "task = SIB200ClusteringFast()\n",
    "#task.load_data()"
   ]
  },
  {
   "cell_type": "code",
   "execution_count": 146,
   "id": "88e8e075",
   "metadata": {},
   "outputs": [
    {
     "data": {
      "text/plain": [
       "['test']"
      ]
     },
     "execution_count": 146,
     "metadata": {},
     "output_type": "execute_result"
    }
   ],
   "source": [
    "task.eval_splits"
   ]
  },
  {
   "cell_type": "code",
   "execution_count": 148,
   "id": "dcc7d7f4",
   "metadata": {},
   "outputs": [
    {
     "name": "stderr",
     "output_type": "stream",
     "text": [
      "Casting to class labels: 100%|██████████| 1004/1004 [00:00<00:00, 378456.12 examples/s]\n",
      "Casting to class labels: 100%|██████████| 1004/1004 [00:00<00:00, 410476.77 examples/s]\n",
      "Casting to class labels: 100%|██████████| 1004/1004 [00:00<00:00, 417021.31 examples/s]\n",
      "Casting to class labels: 100%|██████████| 1004/1004 [00:00<00:00, 409240.16 examples/s]\n",
      "Casting to class labels: 100%|██████████| 1004/1004 [00:00<00:00, 401131.76 examples/s]\n",
      "Casting to class labels: 100%|██████████| 1004/1004 [00:00<00:00, 353397.22 examples/s]\n",
      "Casting to class labels: 100%|██████████| 1004/1004 [00:00<00:00, 413013.07 examples/s]\n",
      "Casting to class labels: 100%|██████████| 1004/1004 [00:00<00:00, 410757.04 examples/s]\n",
      "Casting to class labels: 100%|██████████| 1004/1004 [00:00<00:00, 405887.35 examples/s]\n",
      "Casting to class labels: 100%|██████████| 1004/1004 [00:00<00:00, 408208.73 examples/s]\n",
      "Casting to class labels: 100%|██████████| 1004/1004 [00:00<00:00, 407182.48 examples/s]\n",
      "Casting to class labels: 100%|██████████| 1004/1004 [00:00<00:00, 404483.84 examples/s]\n",
      "Casting to class labels: 100%|██████████| 1004/1004 [00:00<00:00, 385524.23 examples/s]\n",
      "Casting to class labels: 100%|██████████| 1004/1004 [00:00<00:00, 407379.43 examples/s]\n",
      "Casting to class labels: 100%|██████████| 1004/1004 [00:00<00:00, 393595.78 examples/s]\n",
      "Casting to class labels: 100%|██████████| 1004/1004 [00:00<00:00, 407340.03 examples/s]\n",
      "Casting to class labels: 100%|██████████| 1004/1004 [00:00<00:00, 387939.31 examples/s]\n",
      "Casting to class labels: 100%|██████████| 1004/1004 [00:00<00:00, 402589.03 examples/s]\n",
      "Casting to class labels: 100%|██████████| 1004/1004 [00:00<00:00, 396972.21 examples/s]\n",
      "Casting to class labels: 100%|██████████| 1004/1004 [00:00<00:00, 403321.64 examples/s]\n",
      "Casting to class labels: 100%|██████████| 1004/1004 [00:00<00:00, 373786.72 examples/s]\n",
      "Casting to class labels: 100%|██████████| 1004/1004 [00:00<00:00, 402589.03 examples/s]\n",
      "Casting to class labels: 100%|██████████| 1004/1004 [00:00<00:00, 401246.42 examples/s]\n",
      "Casting to class labels: 100%|██████████| 1004/1004 [00:00<00:00, 389806.65 examples/s]\n",
      "Casting to class labels: 100%|██████████| 1004/1004 [00:00<00:00, 403863.16 examples/s]\n",
      "Casting to class labels: 100%|██████████| 1004/1004 [00:00<00:00, 382130.78 examples/s]\n",
      "Casting to class labels: 100%|██████████| 1004/1004 [00:00<00:00, 386337.73 examples/s]\n",
      "Casting to class labels: 100%|██████████| 1004/1004 [00:00<00:00, 408010.97 examples/s]\n",
      "Casting to class labels: 100%|██████████| 1004/1004 [00:00<00:00, 364469.55 examples/s]\n",
      "Casting to class labels: 100%|██████████| 1004/1004 [00:00<00:00, 413824.81 examples/s]\n",
      "Casting to class labels: 100%|██████████| 1004/1004 [00:00<00:00, 407340.03 examples/s]\n",
      "Casting to class labels: 100%|██████████| 1004/1004 [00:00<00:00, 401629.11 examples/s]\n",
      "Casting to class labels: 100%|██████████| 1004/1004 [00:00<00:00, 409717.96 examples/s]\n",
      "Casting to class labels: 100%|██████████| 1004/1004 [00:00<00:00, 394111.48 examples/s]\n",
      "Casting to class labels: 100%|██████████| 1004/1004 [00:00<00:00, 393890.30 examples/s]\n",
      "Casting to class labels: 100%|██████████| 1004/1004 [00:00<00:00, 394702.52 examples/s]\n",
      "Casting to class labels: 100%|██████████| 1004/1004 [00:00<00:00, 386444.09 examples/s]\n",
      "Casting to class labels: 100%|██████████| 1004/1004 [00:00<00:00, 422629.59 examples/s]\n",
      "Casting to class labels: 100%|██████████| 1004/1004 [00:00<00:00, 409081.14 examples/s]\n",
      "Casting to class labels: 100%|██████████| 1004/1004 [00:00<00:00, 407971.44 examples/s]\n",
      "Casting to class labels: 100%|██████████| 1004/1004 [00:00<00:00, 405106.42 examples/s]\n",
      "Casting to class labels: 100%|██████████| 1004/1004 [00:00<00:00, 416114.74 examples/s]\n",
      "Casting to class labels: 100%|██████████| 1004/1004 [00:00<00:00, 412244.86 examples/s]\n",
      "Casting to class labels: 100%|██████████| 1004/1004 [00:00<00:00, 381093.32 examples/s]\n",
      "Casting to class labels: 100%|██████████| 1004/1004 [00:00<00:00, 376628.32 examples/s]\n",
      "Casting to class labels: 100%|██████████| 1004/1004 [00:00<00:00, 404522.69 examples/s]\n",
      "Casting to class labels: 100%|██████████| 1004/1004 [00:00<00:00, 409439.11 examples/s]\n",
      "Casting to class labels: 100%|██████████| 1004/1004 [00:00<00:00, 404989.54 examples/s]\n",
      "Casting to class labels: 100%|██████████| 1004/1004 [00:00<00:00, 406592.76 examples/s]\n",
      "Casting to class labels: 100%|██████████| 1004/1004 [00:00<00:00, 403785.71 examples/s]\n",
      "Casting to class labels: 100%|██████████| 1004/1004 [00:00<00:00, 404250.86 examples/s]\n",
      "Casting to class labels: 100%|██████████| 1004/1004 [00:00<00:00, 400140.75 examples/s]\n",
      "Casting to class labels: 100%|██████████| 1004/1004 [00:00<00:00, 404717.08 examples/s]\n",
      "Casting to class labels: 100%|██████████| 1004/1004 [00:00<00:00, 412891.58 examples/s]\n",
      "Casting to class labels: 100%|██████████| 1004/1004 [00:00<00:00, 394554.60 examples/s]\n",
      "Casting to class labels: 100%|██████████| 1004/1004 [00:00<00:00, 382755.97 examples/s]\n",
      "Casting to class labels: 100%|██████████| 1004/1004 [00:00<00:00, 407616.03 examples/s]\n",
      "Casting to class labels: 100%|██████████| 1004/1004 [00:00<00:00, 403244.39 examples/s]\n",
      "Casting to class labels: 100%|██████████| 1004/1004 [00:00<00:00, 406239.75 examples/s]\n",
      "Casting to class labels: 100%|██████████| 1004/1004 [00:00<00:00, 405418.43 examples/s]\n",
      "Casting to class labels: 100%|██████████| 1004/1004 [00:00<00:00, 407931.92 examples/s]\n",
      "Casting to class labels: 100%|██████████| 1004/1004 [00:00<00:00, 406357.35 examples/s]\n",
      "Casting to class labels: 100%|██████████| 1004/1004 [00:00<00:00, 389482.17 examples/s]\n",
      "Casting to class labels: 100%|██████████| 1004/1004 [00:00<00:00, 409957.28 examples/s]\n",
      "Casting to class labels: 100%|██████████| 1004/1004 [00:00<00:00, 408961.95 examples/s]\n",
      "Casting to class labels: 100%|██████████| 1004/1004 [00:00<00:00, 406671.29 examples/s]\n",
      "Casting to class labels: 100%|██████████| 1004/1004 [00:00<00:00, 367491.16 examples/s]\n",
      "Casting to class labels: 100%|██████████| 1004/1004 [00:00<00:00, 393301.69 examples/s]\n",
      "Casting to class labels: 100%|██████████| 1004/1004 [00:00<00:00, 409598.41 examples/s]\n",
      "Casting to class labels: 100%|██████████| 1004/1004 [00:00<00:00, 408644.47 examples/s]\n",
      "Casting to class labels: 100%|██████████| 1004/1004 [00:00<00:00, 392898.04 examples/s]\n",
      "Casting to class labels: 100%|██████████| 1004/1004 [00:00<00:00, 408565.17 examples/s]\n",
      "Casting to class labels: 100%|██████████| 1004/1004 [00:00<00:00, 404095.69 examples/s]\n",
      "Casting to class labels: 100%|██████████| 1004/1004 [00:00<00:00, 405340.38 examples/s]\n",
      "Casting to class labels: 100%|██████████| 1004/1004 [00:00<00:00, 403824.44 examples/s]\n",
      "Casting to class labels: 100%|██████████| 1004/1004 [00:00<00:00, 403437.56 examples/s]\n",
      "Casting to class labels: 100%|██████████| 1004/1004 [00:00<00:00, 405965.60 examples/s]\n",
      "Casting to class labels: 100%|██████████| 1004/1004 [00:00<00:00, 381784.34 examples/s]\n",
      "Casting to class labels: 100%|██████████| 1004/1004 [00:00<00:00, 407694.96 examples/s]\n",
      "Casting to class labels: 100%|██████████| 1004/1004 [00:00<00:00, 410556.81 examples/s]\n",
      "Casting to class labels: 100%|██████████| 1004/1004 [00:00<00:00, 408287.88 examples/s]\n",
      "Casting to class labels: 100%|██████████| 1004/1004 [00:00<00:00, 386089.78 examples/s]\n",
      "Casting to class labels: 100%|██████████| 1004/1004 [00:00<00:00, 391874.30 examples/s]\n",
      "Casting to class labels: 100%|██████████| 1004/1004 [00:00<00:00, 380989.89 examples/s]\n",
      "Casting to class labels: 100%|██████████| 1004/1004 [00:00<00:00, 392020.22 examples/s]\n",
      "Casting to class labels: 100%|██████████| 1004/1004 [00:00<00:00, 406907.07 examples/s]\n",
      "Casting to class labels: 100%|██████████| 1004/1004 [00:00<00:00, 411198.24 examples/s]\n",
      "Casting to class labels: 100%|██████████| 1004/1004 [00:00<00:00, 399950.73 examples/s]\n",
      "Casting to class labels: 100%|██████████| 1004/1004 [00:00<00:00, 355245.59 examples/s]\n",
      "Casting to class labels: 100%|██████████| 1004/1004 [00:00<00:00, 400978.98 examples/s]\n",
      "Casting to class labels: 100%|██████████| 1004/1004 [00:00<00:00, 399571.23 examples/s]\n",
      "Casting to class labels: 100%|██████████| 1004/1004 [00:00<00:00, 393118.11 examples/s]\n",
      "Casting to class labels: 100%|██████████| 1004/1004 [00:00<00:00, 405965.60 examples/s]\n",
      "Casting to class labels: 100%|██████████| 1004/1004 [00:00<00:00, 403553.54 examples/s]\n",
      "Casting to class labels: 100%|██████████| 1004/1004 [00:00<00:00, 402012.53 examples/s]\n",
      "Casting to class labels: 100%|██████████| 1004/1004 [00:00<00:00, 403205.78 examples/s]\n",
      "Casting to class labels: 100%|██████████| 1004/1004 [00:00<00:00, 404367.31 examples/s]\n",
      "Casting to class labels: 100%|██████████| 1004/1004 [00:00<00:00, 305793.42 examples/s]\n",
      "Casting to class labels: 100%|██████████| 1004/1004 [00:00<00:00, 376291.77 examples/s]\n",
      "Casting to class labels: 100%|██████████| 1004/1004 [00:00<00:00, 403128.59 examples/s]\n",
      "Casting to class labels: 100%|██████████| 1004/1004 [00:00<00:00, 403901.90 examples/s]\n",
      "Casting to class labels: 100%|██████████| 1004/1004 [00:00<00:00, 406828.44 examples/s]\n",
      "Casting to class labels: 100%|██████████| 1004/1004 [00:00<00:00, 401897.42 examples/s]\n",
      "Casting to class labels: 100%|██████████| 1004/1004 [00:00<00:00, 404134.47 examples/s]\n",
      "Casting to class labels: 100%|██████████| 1004/1004 [00:00<00:00, 398550.18 examples/s]\n",
      "Casting to class labels: 100%|██████████| 1004/1004 [00:00<00:00, 410957.47 examples/s]\n",
      "Casting to class labels: 100%|██████████| 1004/1004 [00:00<00:00, 401820.73 examples/s]\n",
      "Casting to class labels: 100%|██████████| 1004/1004 [00:00<00:00, 407734.43 examples/s]\n",
      "Casting to class labels: 100%|██████████| 1004/1004 [00:00<00:00, 400521.33 examples/s]\n",
      "Casting to class labels: 100%|██████████| 1004/1004 [00:00<00:00, 378966.99 examples/s]\n",
      "Casting to class labels: 100%|██████████| 1004/1004 [00:00<00:00, 380061.48 examples/s]\n",
      "Casting to class labels: 100%|██████████| 1004/1004 [00:00<00:00, 378898.80 examples/s]\n",
      "Casting to class labels: 100%|██████████| 1004/1004 [00:00<00:00, 377980.54 examples/s]\n",
      "Casting to class labels: 100%|██████████| 1004/1004 [00:00<00:00, 380027.18 examples/s]\n",
      "Casting to class labels: 100%|██████████| 1004/1004 [00:00<00:00, 410156.93 examples/s]\n",
      "Casting to class labels: 100%|██████████| 1004/1004 [00:00<00:00, 392971.37 examples/s]\n",
      "Casting to class labels: 100%|██████████| 1004/1004 [00:00<00:00, 400102.73 examples/s]\n",
      "Casting to class labels: 100%|██████████| 1004/1004 [00:00<00:00, 382408.39 examples/s]\n",
      "Casting to class labels: 100%|██████████| 1004/1004 [00:00<00:00, 394591.57 examples/s]\n",
      "Casting to class labels: 100%|██████████| 1004/1004 [00:00<00:00, 397121.96 examples/s]\n",
      "Casting to class labels: 100%|██████████| 1004/1004 [00:00<00:00, 310780.90 examples/s]\n",
      "Casting to class labels: 100%|██████████| 1004/1004 [00:00<00:00, 393375.17 examples/s]\n",
      "Casting to class labels: 100%|██████████| 1004/1004 [00:00<00:00, 404639.30 examples/s]\n",
      "Casting to class labels: 100%|██████████| 1004/1004 [00:00<00:00, 402974.28 examples/s]\n",
      "Casting to class labels: 100%|██████████| 1004/1004 [00:00<00:00, 385453.66 examples/s]\n",
      "Casting to class labels: 100%|██████████| 1004/1004 [00:00<00:00, 390167.81 examples/s]\n",
      "Casting to class labels: 100%|██████████| 1004/1004 [00:00<00:00, 403592.22 examples/s]\n",
      "Casting to class labels: 100%|██████████| 1004/1004 [00:00<00:00, 399306.01 examples/s]\n",
      "Casting to class labels: 100%|██████████| 1004/1004 [00:00<00:00, 403167.18 examples/s]\n",
      "Casting to class labels: 100%|██████████| 1004/1004 [00:00<00:00, 404833.80 examples/s]\n",
      "Casting to class labels: 100%|██████████| 1004/1004 [00:00<00:00, 387475.27 examples/s]\n",
      "Casting to class labels: 100%|██████████| 1004/1004 [00:00<00:00, 378626.26 examples/s]\n",
      "Casting to class labels: 100%|██████████| 1004/1004 [00:00<00:00, 387475.27 examples/s]\n",
      "Casting to class labels: 100%|██████████| 1004/1004 [00:00<00:00, 401131.76 examples/s]\n",
      "Casting to class labels: 100%|██████████| 1004/1004 [00:00<00:00, 394591.57 examples/s]\n",
      "Casting to class labels: 100%|██████████| 1004/1004 [00:00<00:00, 399533.32 examples/s]\n",
      "Casting to class labels: 100%|██████████| 1004/1004 [00:00<00:00, 403437.56 examples/s]\n",
      "Casting to class labels: 100%|██████████| 1004/1004 [00:00<00:00, 405535.56 examples/s]\n",
      "Casting to class labels: 100%|██████████| 1004/1004 [00:00<00:00, 406318.14 examples/s]\n",
      "Casting to class labels: 100%|██████████| 1004/1004 [00:00<00:00, 399041.15 examples/s]\n",
      "Casting to class labels: 100%|██████████| 1004/1004 [00:00<00:00, 405848.23 examples/s]\n",
      "Casting to class labels: 100%|██████████| 1004/1004 [00:00<00:00, 404406.15 examples/s]\n",
      "Casting to class labels: 100%|██████████| 1004/1004 [00:00<00:00, 404833.80 examples/s]\n",
      "Casting to class labels: 100%|██████████| 1004/1004 [00:00<00:00, 367330.88 examples/s]\n",
      "Casting to class labels: 100%|██████████| 1004/1004 [00:00<00:00, 401744.06 examples/s]\n",
      "Casting to class labels: 100%|██████████| 1004/1004 [00:00<00:00, 377100.49 examples/s]\n",
      "Casting to class labels: 100%|██████████| 1004/1004 [00:00<00:00, 372728.02 examples/s]\n",
      "Casting to class labels: 100%|██████████| 1004/1004 [00:00<00:00, 399343.88 examples/s]\n",
      "Casting to class labels: 100%|██████████| 1004/1004 [00:00<00:00, 367908.55 examples/s]\n",
      "Casting to class labels: 100%|██████████| 1004/1004 [00:00<00:00, 379137.59 examples/s]\n",
      "Casting to class labels: 100%|██████████| 1004/1004 [00:00<00:00, 403128.59 examples/s]\n",
      "Casting to class labels: 100%|██████████| 1004/1004 [00:00<00:00, 406161.38 examples/s]\n",
      "Casting to class labels: 100%|██████████| 1004/1004 [00:00<00:00, 397047.07 examples/s]\n",
      "Casting to class labels: 100%|██████████| 1004/1004 [00:00<00:00, 400521.33 examples/s]\n",
      "Casting to class labels: 100%|██████████| 1004/1004 [00:00<00:00, 370432.90 examples/s]\n",
      "Casting to class labels: 100%|██████████| 1004/1004 [00:00<00:00, 399116.79 examples/s]\n",
      "Casting to class labels: 100%|██████████| 1004/1004 [00:00<00:00, 400864.47 examples/s]\n",
      "Casting to class labels: 100%|██████████| 1004/1004 [00:00<00:00, 397684.50 examples/s]\n",
      "Casting to class labels: 100%|██████████| 1004/1004 [00:00<00:00, 401399.41 examples/s]\n",
      "Casting to class labels: 100%|██████████| 1004/1004 [00:00<00:00, 392422.07 examples/s]\n",
      "Casting to class labels: 100%|██████████| 1004/1004 [00:00<00:00, 405301.37 examples/s]\n",
      "Casting to class labels: 100%|██████████| 1004/1004 [00:00<00:00, 408684.12 examples/s]\n",
      "Casting to class labels: 100%|██████████| 1004/1004 [00:00<00:00, 407143.11 examples/s]\n",
      "Casting to class labels: 100%|██████████| 1004/1004 [00:00<00:00, 402396.68 examples/s]\n",
      "Casting to class labels: 100%|██████████| 1004/1004 [00:00<00:00, 396374.36 examples/s]\n",
      "Casting to class labels: 100%|██████████| 1004/1004 [00:00<00:00, 351832.33 examples/s]\n",
      "Casting to class labels: 100%|██████████| 1004/1004 [00:00<00:00, 386656.98 examples/s]\n",
      "Casting to class labels: 100%|██████████| 1004/1004 [00:00<00:00, 397421.78 examples/s]\n",
      "Casting to class labels: 100%|██████████| 1004/1004 [00:00<00:00, 385453.66 examples/s]\n",
      "Casting to class labels: 100%|██████████| 1004/1004 [00:00<00:00, 393632.57 examples/s]\n",
      "Casting to class labels: 100%|██████████| 1004/1004 [00:00<00:00, 397985.18 examples/s]\n",
      "Casting to class labels: 100%|██████████| 1004/1004 [00:00<00:00, 382269.54 examples/s]\n",
      "Casting to class labels: 100%|██████████| 1004/1004 [00:00<00:00, 397722.06 examples/s]\n",
      "Casting to class labels: 100%|██████████| 1004/1004 [00:00<00:00, 407497.70 examples/s]\n",
      "Casting to class labels: 100%|██████████| 1004/1004 [00:00<00:00, 401667.42 examples/s]\n",
      "Casting to class labels: 100%|██████████| 1004/1004 [00:00<00:00, 401705.73 examples/s]\n",
      "Casting to class labels: 100%|██████████| 1004/1004 [00:00<00:00, 378456.12 examples/s]\n",
      "Casting to class labels: 100%|██████████| 1004/1004 [00:00<00:00, 404212.06 examples/s]\n",
      "Casting to class labels: 100%|██████████| 1004/1004 [00:00<00:00, 402743.04 examples/s]\n",
      "Casting to class labels: 100%|██████████| 1004/1004 [00:00<00:00, 406749.85 examples/s]\n",
      "Casting to class labels: 100%|██████████| 1004/1004 [00:00<00:00, 390384.84 examples/s]\n",
      "Casting to class labels: 100%|██████████| 1004/1004 [00:00<00:00, 387297.09 examples/s]\n",
      "Casting to class labels: 100%|██████████| 1004/1004 [00:00<00:00, 390529.65 examples/s]\n",
      "Casting to class labels: 100%|██████████| 1004/1004 [00:00<00:00, 404950.59 examples/s]\n",
      "Casting to class labels: 100%|██████████| 1004/1004 [00:00<00:00, 390023.27 examples/s]\n",
      "Casting to class labels: 100%|██████████| 1004/1004 [00:00<00:00, 397759.63 examples/s]\n",
      "Casting to class labels: 100%|██████████| 1004/1004 [00:00<00:00, 402974.28 examples/s]\n",
      "Casting to class labels: 100%|██████████| 1004/1004 [00:00<00:00, 377540.01 examples/s]\n",
      "Casting to class labels: 100%|██████████| 1004/1004 [00:00<00:00, 410837.19 examples/s]\n",
      "Casting to class labels: 100%|██████████| 1004/1004 [00:00<00:00, 405301.37 examples/s]\n",
      "Casting to class labels: 100%|██████████| 1004/1004 [00:00<00:00, 394074.60 examples/s]\n",
      "Casting to class labels: 100%|██████████| 1004/1004 [00:00<00:00, 392020.22 examples/s]\n",
      "Casting to class labels: 100%|██████████| 1004/1004 [00:00<00:00, 403398.91 examples/s]\n",
      "Casting to class labels: 100%|██████████| 1004/1004 [00:00<00:00, 398927.74 examples/s]\n",
      "Casting to class labels: 100%|██████████| 1004/1004 [00:00<00:00, 429307.90 examples/s]\n",
      "Casting to class labels: 100%|██████████| 1004/1004 [00:00<00:00, 397009.64 examples/s]\n",
      "Casting to class labels: 100%|██████████| 1004/1004 [00:00<00:00, 400559.42 examples/s]\n"
     ]
    }
   ],
   "source": [
    "task.load_data()"
   ]
  },
  {
   "cell_type": "code",
   "execution_count": 149,
   "id": "7191508a",
   "metadata": {},
   "outputs": [
    {
     "data": {
      "text/plain": [
       "DatasetDict({\n",
       "    test: Dataset({\n",
       "        features: ['labels', 'sentences'],\n",
       "        num_rows: 1004\n",
       "    })\n",
       "})"
      ]
     },
     "execution_count": 149,
     "metadata": {},
     "output_type": "execute_result"
    }
   ],
   "source": [
    "task.dataset['hin_Deva']"
   ]
  },
  {
   "cell_type": "markdown",
   "id": "228a612e",
   "metadata": {},
   "source": [
    "HindiDiscourseClassification"
   ]
  },
  {
   "cell_type": "code",
   "execution_count": 153,
   "id": "cd109e93",
   "metadata": {},
   "outputs": [],
   "source": [
    "from mteb.tasks import HindiDiscourseClassification\n",
    "\n",
    "task = HindiDiscourseClassification()\n",
    "task.load_data()"
   ]
  },
  {
   "cell_type": "code",
   "execution_count": 154,
   "id": "35bdbde9",
   "metadata": {},
   "outputs": [
    {
     "data": {
      "text/plain": [
       "DatasetDict({\n",
       "    train: Dataset({\n",
       "        features: ['text', 'label'],\n",
       "        num_rows: 2048\n",
       "    })\n",
       "})"
      ]
     },
     "execution_count": 154,
     "metadata": {},
     "output_type": "execute_result"
    }
   ],
   "source": [
    "task.dataset"
   ]
  },
  {
   "cell_type": "markdown",
   "id": "10c30cb6",
   "metadata": {},
   "source": [
    "SentimentAnalysisHindi"
   ]
  },
  {
   "cell_type": "code",
   "execution_count": 155,
   "id": "708bf89b",
   "metadata": {},
   "outputs": [],
   "source": [
    "from mteb.tasks import SentimentAnalysisHindi\n",
    "\n",
    "task = SentimentAnalysisHindi()\n",
    "task.load_data()"
   ]
  },
  {
   "cell_type": "code",
   "execution_count": 156,
   "id": "1e5a9913",
   "metadata": {},
   "outputs": [
    {
     "data": {
      "text/plain": [
       "DatasetDict({\n",
       "    train: Dataset({\n",
       "        features: ['text', 'label'],\n",
       "        num_rows: 2048\n",
       "    })\n",
       "})"
      ]
     },
     "execution_count": 156,
     "metadata": {},
     "output_type": "execute_result"
    }
   ],
   "source": [
    "task.dataset"
   ]
  },
  {
   "cell_type": "markdown",
   "id": "b73addf3",
   "metadata": {},
   "source": [
    "MTOPIntentClassification"
   ]
  },
  {
   "cell_type": "code",
   "execution_count": 213,
   "id": "1d777385",
   "metadata": {},
   "outputs": [],
   "source": [
    "from mteb.tasks import MTOPIntentClassification\n",
    "\n",
    "task = MTOPIntentClassification()\n",
    "task.load_data()"
   ]
  },
  {
   "cell_type": "code",
   "execution_count": 214,
   "id": "edd98bb6",
   "metadata": {},
   "outputs": [
    {
     "data": {
      "text/plain": [
       "DatasetDict({\n",
       "    train: Dataset({\n",
       "        features: ['id', 'text', 'label', 'label_text'],\n",
       "        num_rows: 11330\n",
       "    })\n",
       "    validation: Dataset({\n",
       "        features: ['id', 'text', 'label', 'label_text'],\n",
       "        num_rows: 2012\n",
       "    })\n",
       "    test: Dataset({\n",
       "        features: ['id', 'text', 'label', 'label_text'],\n",
       "        num_rows: 2789\n",
       "    })\n",
       "})"
      ]
     },
     "execution_count": 214,
     "metadata": {},
     "output_type": "execute_result"
    }
   ],
   "source": [
    "task.dataset['hi']"
   ]
  },
  {
   "cell_type": "code",
   "execution_count": 215,
   "id": "a2c9b627",
   "metadata": {},
   "outputs": [
    {
     "data": {
      "text/plain": [
       "['validation', 'test']"
      ]
     },
     "execution_count": 215,
     "metadata": {},
     "output_type": "execute_result"
    }
   ],
   "source": [
    "task.eval_splits"
   ]
  },
  {
   "cell_type": "markdown",
   "id": "e3282da1",
   "metadata": {},
   "source": [
    "MultiHateClassification"
   ]
  },
  {
   "cell_type": "code",
   "execution_count": 162,
   "id": "9c421b62",
   "metadata": {},
   "outputs": [
    {
     "name": "stderr",
     "output_type": "stream",
     "text": [
      "Stringifying the column: 100%|██████████| 3765/3765 [00:00<00:00, 761626.05 examples/s]\n",
      "Casting to class labels: 100%|██████████| 3765/3765 [00:00<00:00, 731801.96 examples/s]\n",
      "Stringifying the column: 100%|██████████| 3765/3765 [00:00<00:00, 798359.68 examples/s]\n",
      "Casting to class labels: 100%|██████████| 3765/3765 [00:00<00:00, 714679.33 examples/s]\n",
      "Stringifying the column: 100%|██████████| 3728/3728 [00:00<00:00, 855896.07 examples/s]\n",
      "Casting to class labels: 100%|██████████| 3728/3728 [00:00<00:00, 721201.30 examples/s]\n",
      "Stringifying the column: 100%|██████████| 3728/3728 [00:00<00:00, 808415.12 examples/s]\n",
      "Casting to class labels: 100%|██████████| 3728/3728 [00:00<00:00, 711196.46 examples/s]\n",
      "Stringifying the column: 100%|██████████| 3565/3565 [00:00<00:00, 836842.05 examples/s]\n",
      "Casting to class labels: 100%|██████████| 3565/3565 [00:00<00:00, 608897.41 examples/s]\n",
      "Stringifying the column: 100%|██████████| 3565/3565 [00:00<00:00, 790938.57 examples/s]\n",
      "Casting to class labels: 100%|██████████| 3565/3565 [00:00<00:00, 716914.89 examples/s]\n",
      "Stringifying the column: 100%|██████████| 3570/3570 [00:00<00:00, 825404.62 examples/s]\n",
      "Casting to class labels: 100%|██████████| 3570/3570 [00:00<00:00, 716957.88 examples/s]\n",
      "Stringifying the column: 100%|██████████| 3570/3570 [00:00<00:00, 799533.60 examples/s]\n",
      "Casting to class labels: 100%|██████████| 3570/3570 [00:00<00:00, 711642.28 examples/s]\n",
      "Stringifying the column: 100%|██████████| 3815/3815 [00:00<00:00, 861951.61 examples/s]\n",
      "Casting to class labels: 100%|██████████| 3815/3815 [00:00<00:00, 748527.38 examples/s]\n",
      "Stringifying the column: 100%|██████████| 3815/3815 [00:00<00:00, 842393.78 examples/s]\n",
      "Casting to class labels: 100%|██████████| 3815/3815 [00:00<00:00, 737725.67 examples/s]\n",
      "Stringifying the column: 100%|██████████| 3645/3645 [00:00<00:00, 847980.37 examples/s]\n",
      "Casting to class labels: 100%|██████████| 3645/3645 [00:00<00:00, 738883.48 examples/s]\n",
      "Stringifying the column: 100%|██████████| 3645/3645 [00:00<00:00, 823098.85 examples/s]\n",
      "Casting to class labels: 100%|██████████| 3645/3645 [00:00<00:00, 724629.73 examples/s]\n",
      "Stringifying the column: 100%|██████████| 3745/3745 [00:00<00:00, 879094.95 examples/s]\n",
      "Casting to class labels: 100%|██████████| 3745/3745 [00:00<00:00, 743311.97 examples/s]\n",
      "Stringifying the column: 100%|██████████| 3745/3745 [00:00<00:00, 841467.21 examples/s]\n",
      "Casting to class labels: 100%|██████████| 3745/3745 [00:00<00:00, 712462.85 examples/s]\n",
      "Stringifying the column: 100%|██████████| 3691/3691 [00:00<00:00, 866273.63 examples/s]\n",
      "Casting to class labels: 100%|██████████| 3691/3691 [00:00<00:00, 726781.66 examples/s]\n",
      "Stringifying the column: 100%|██████████| 3691/3691 [00:00<00:00, 819717.04 examples/s]\n",
      "Casting to class labels: 100%|██████████| 3691/3691 [00:00<00:00, 716588.41 examples/s]\n",
      "Stringifying the column: 100%|██████████| 3378/3378 [00:00<00:00, 805890.39 examples/s]\n",
      "Casting to class labels: 100%|██████████| 3378/3378 [00:00<00:00, 704087.81 examples/s]\n",
      "Stringifying the column: 100%|██████████| 3378/3378 [00:00<00:00, 804746.05 examples/s]\n",
      "Casting to class labels: 100%|██████████| 3378/3378 [00:00<00:00, 686651.11 examples/s]\n",
      "Stringifying the column: 100%|██████████| 3690/3690 [00:00<00:00, 850757.57 examples/s]\n",
      "Casting to class labels: 100%|██████████| 3690/3690 [00:00<00:00, 727438.51 examples/s]\n",
      "Stringifying the column: 100%|██████████| 3690/3690 [00:00<00:00, 827646.08 examples/s]\n",
      "Casting to class labels: 100%|██████████| 3690/3690 [00:00<00:00, 725188.91 examples/s]\n",
      "Stringifying the column: 100%|██████████| 3718/3718 [00:00<00:00, 870030.25 examples/s]\n",
      "Casting to class labels: 100%|██████████| 3718/3718 [00:00<00:00, 757856.94 examples/s]\n",
      "Stringifying the column: 100%|██████████| 3718/3718 [00:00<00:00, 837509.25 examples/s]\n",
      "Casting to class labels: 100%|██████████| 3718/3718 [00:00<00:00, 723941.43 examples/s]\n"
     ]
    }
   ],
   "source": [
    "from mteb.tasks import MultiHateClassification\n",
    "\n",
    "task = MultiHateClassification()\n",
    "task.load_data()"
   ]
  },
  {
   "cell_type": "code",
   "execution_count": 165,
   "id": "705e9171",
   "metadata": {},
   "outputs": [
    {
     "data": {
      "text/plain": [
       "DatasetDict({\n",
       "    train: Dataset({\n",
       "        features: ['text', 'label'],\n",
       "        num_rows: 1000\n",
       "    })\n",
       "    test: Dataset({\n",
       "        features: ['text', 'label'],\n",
       "        num_rows: 1000\n",
       "    })\n",
       "})"
      ]
     },
     "execution_count": 165,
     "metadata": {},
     "output_type": "execute_result"
    }
   ],
   "source": [
    "task.dataset['hin']"
   ]
  },
  {
   "cell_type": "code",
   "execution_count": 166,
   "id": "a7dd15e9",
   "metadata": {},
   "outputs": [
    {
     "data": {
      "text/plain": [
       "['test']"
      ]
     },
     "execution_count": 166,
     "metadata": {},
     "output_type": "execute_result"
    }
   ],
   "source": [
    "task.eval_splits"
   ]
  },
  {
   "cell_type": "markdown",
   "id": "eb0be325",
   "metadata": {},
   "source": [
    "TweetSentimentClassification"
   ]
  },
  {
   "cell_type": "code",
   "execution_count": 167,
   "id": "6c02e9f6",
   "metadata": {},
   "outputs": [
    {
     "name": "stderr",
     "output_type": "stream",
     "text": [
      "Stringifying the column: 100%|██████████| 1839/1839 [00:00<00:00, 632966.11 examples/s]\n",
      "Casting to class labels: 100%|██████████| 1839/1839 [00:00<00:00, 618947.61 examples/s]\n",
      "Stringifying the column: 100%|██████████| 870/870 [00:00<00:00, 476625.45 examples/s]\n",
      "Casting to class labels: 100%|██████████| 870/870 [00:00<00:00, 425197.45 examples/s]\n",
      "Stringifying the column: 100%|██████████| 324/324 [00:00<00:00, 210919.52 examples/s]\n",
      "Casting to class labels: 100%|██████████| 324/324 [00:00<00:00, 202738.25 examples/s]\n",
      "Stringifying the column: 100%|██████████| 1839/1839 [00:00<00:00, 690230.43 examples/s]\n",
      "Casting to class labels: 100%|██████████| 1839/1839 [00:00<00:00, 599558.89 examples/s]\n",
      "Stringifying the column: 100%|██████████| 870/870 [00:00<00:00, 486215.12 examples/s]\n",
      "Casting to class labels: 100%|██████████| 870/870 [00:00<00:00, 444301.04 examples/s]\n",
      "Stringifying the column: 100%|██████████| 324/324 [00:00<00:00, 213303.17 examples/s]\n",
      "Casting to class labels: 100%|██████████| 324/324 [00:00<00:00, 213202.78 examples/s]\n",
      "Stringifying the column: 100%|██████████| 1839/1839 [00:00<00:00, 713404.09 examples/s]\n",
      "Casting to class labels: 100%|██████████| 1839/1839 [00:00<00:00, 643045.02 examples/s]\n",
      "Stringifying the column: 100%|██████████| 870/870 [00:00<00:00, 493781.39 examples/s]\n",
      "Casting to class labels: 100%|██████████| 870/870 [00:00<00:00, 458307.52 examples/s]\n",
      "Stringifying the column: 100%|██████████| 324/324 [00:00<00:00, 218586.86 examples/s]\n",
      "Casting to class labels: 100%|██████████| 324/324 [00:00<00:00, 191429.00 examples/s]\n",
      "Stringifying the column: 100%|██████████| 1839/1839 [00:00<00:00, 704735.04 examples/s]\n",
      "Casting to class labels: 100%|██████████| 1839/1839 [00:00<00:00, 641440.75 examples/s]\n",
      "Stringifying the column: 100%|██████████| 870/870 [00:00<00:00, 488951.42 examples/s]\n",
      "Casting to class labels: 100%|██████████| 870/870 [00:00<00:00, 449999.32 examples/s]\n",
      "Stringifying the column: 100%|██████████| 324/324 [00:00<00:00, 221580.71 examples/s]\n",
      "Casting to class labels: 100%|██████████| 324/324 [00:00<00:00, 215399.35 examples/s]\n",
      "Stringifying the column: 100%|██████████| 1839/1839 [00:00<00:00, 708424.42 examples/s]\n",
      "Casting to class labels: 100%|██████████| 1839/1839 [00:00<00:00, 626742.92 examples/s]\n",
      "Stringifying the column: 100%|██████████| 870/870 [00:00<00:00, 495188.56 examples/s]\n",
      "Casting to class labels: 100%|██████████| 870/870 [00:00<00:00, 424208.84 examples/s]\n",
      "Stringifying the column: 100%|██████████| 324/324 [00:00<00:00, 217293.65 examples/s]\n",
      "Casting to class labels: 100%|██████████| 324/324 [00:00<00:00, 212204.01 examples/s]\n",
      "Stringifying the column: 100%|██████████| 1839/1839 [00:00<00:00, 701849.41 examples/s]\n",
      "Casting to class labels: 100%|██████████| 1839/1839 [00:00<00:00, 625878.37 examples/s]\n",
      "Stringifying the column: 100%|██████████| 870/870 [00:00<00:00, 495861.46 examples/s]\n",
      "Casting to class labels: 100%|██████████| 870/870 [00:00<00:00, 449279.05 examples/s]\n",
      "Stringifying the column: 100%|██████████| 324/324 [00:00<00:00, 216773.73 examples/s]\n",
      "Casting to class labels: 100%|██████████| 324/324 [00:00<00:00, 212902.16 examples/s]\n",
      "Stringifying the column: 100%|██████████| 1839/1839 [00:00<00:00, 521805.24 examples/s]\n",
      "Casting to class labels: 100%|██████████| 1839/1839 [00:00<00:00, 592239.33 examples/s]\n",
      "Stringifying the column: 100%|██████████| 870/870 [00:00<00:00, 493114.12 examples/s]\n",
      "Casting to class labels: 100%|██████████| 870/870 [00:00<00:00, 458307.52 examples/s]\n",
      "Stringifying the column: 100%|██████████| 324/324 [00:00<00:00, 221544.59 examples/s]\n",
      "Casting to class labels: 100%|██████████| 324/324 [00:00<00:00, 215365.21 examples/s]\n",
      "Stringifying the column: 100%|██████████| 1839/1839 [00:00<00:00, 636938.49 examples/s]\n",
      "Casting to class labels: 100%|██████████| 1839/1839 [00:00<00:00, 556677.62 examples/s]\n",
      "Stringifying the column: 100%|██████████| 870/870 [00:00<00:00, 487774.96 examples/s]\n",
      "Casting to class labels: 100%|██████████| 870/870 [00:00<00:00, 455504.24 examples/s]\n",
      "Stringifying the column: 100%|██████████| 324/324 [00:00<00:00, 217397.94 examples/s]\n",
      "Casting to class labels: 100%|██████████| 324/324 [00:00<00:00, 195448.65 examples/s]\n"
     ]
    }
   ],
   "source": [
    "from mteb.tasks import TweetSentimentClassification\n",
    "\n",
    "task = TweetSentimentClassification()\n",
    "task.load_data()"
   ]
  },
  {
   "cell_type": "code",
   "execution_count": 169,
   "id": "1eac759e",
   "metadata": {},
   "outputs": [
    {
     "data": {
      "text/plain": [
       "DatasetDict({\n",
       "    train: Dataset({\n",
       "        features: ['text', 'label'],\n",
       "        num_rows: 1839\n",
       "    })\n",
       "    test: Dataset({\n",
       "        features: ['text', 'label'],\n",
       "        num_rows: 256\n",
       "    })\n",
       "    validation: Dataset({\n",
       "        features: ['text', 'label'],\n",
       "        num_rows: 324\n",
       "    })\n",
       "})"
      ]
     },
     "execution_count": 169,
     "metadata": {},
     "output_type": "execute_result"
    }
   ],
   "source": [
    "task.dataset['hindi']"
   ]
  },
  {
   "cell_type": "code",
   "execution_count": 170,
   "id": "e10ac1af",
   "metadata": {},
   "outputs": [
    {
     "data": {
      "text/plain": [
       "['test']"
      ]
     },
     "execution_count": 170,
     "metadata": {},
     "output_type": "execute_result"
    }
   ],
   "source": [
    "task.eval_splits"
   ]
  },
  {
   "cell_type": "markdown",
   "id": "714edb0a",
   "metadata": {},
   "source": [
    "XNLI"
   ]
  },
  {
   "cell_type": "code",
   "execution_count": null,
   "id": "fcf50f7a",
   "metadata": {},
   "outputs": [],
   "source": [
    "from mteb.tasks import XNLI\n",
    "\n",
    "task = XNLI()\n",
    "task.load_data()"
   ]
  },
  {
   "cell_type": "code",
   "execution_count": 187,
   "id": "c0126ae8",
   "metadata": {},
   "outputs": [
    {
     "data": {
      "text/plain": [
       "dict_keys(['test', 'validation'])"
      ]
     },
     "execution_count": 187,
     "metadata": {},
     "output_type": "execute_result"
    }
   ],
   "source": [
    "task.dataset['hi'].keys()"
   ]
  },
  {
   "cell_type": "code",
   "execution_count": 188,
   "id": "69eccd18",
   "metadata": {},
   "outputs": [
    {
     "data": {
      "text/plain": [
       "['test', 'validation']"
      ]
     },
     "execution_count": 188,
     "metadata": {},
     "output_type": "execute_result"
    }
   ],
   "source": [
    "task.eval_splits"
   ]
  },
  {
   "cell_type": "markdown",
   "id": "09b71200",
   "metadata": {},
   "source": [
    "BelebeleRetrieval"
   ]
  },
  {
   "cell_type": "code",
   "execution_count": 189,
   "id": "1f6de0c0",
   "metadata": {},
   "outputs": [],
   "source": [
    "from mteb.tasks import BelebeleRetrieval\n",
    "\n",
    "task = BelebeleRetrieval()\n",
    "task.load_data()"
   ]
  },
  {
   "cell_type": "code",
   "execution_count": 193,
   "id": "e8d3d1af",
   "metadata": {},
   "outputs": [
    {
     "data": {
      "text/plain": [
       "Dataset({\n",
       "    features: ['link', 'question_number', 'flores_passage', 'question', 'mc_answer1', 'mc_answer2', 'mc_answer3', 'mc_answer4', 'correct_answer_num', 'dialect', 'ds'],\n",
       "    num_rows: 900\n",
       "})"
      ]
     },
     "execution_count": 193,
     "metadata": {},
     "output_type": "execute_result"
    }
   ],
   "source": [
    "task.dataset['hin_Deva']"
   ]
  },
  {
   "cell_type": "code",
   "execution_count": 191,
   "id": "3e531e4e",
   "metadata": {},
   "outputs": [
    {
     "data": {
      "text/plain": [
       "['test']"
      ]
     },
     "execution_count": 191,
     "metadata": {},
     "output_type": "execute_result"
    }
   ],
   "source": [
    "task.eval_splits"
   ]
  },
  {
   "cell_type": "code",
   "execution_count": 192,
   "id": "f82f0b18",
   "metadata": {},
   "outputs": [
    {
     "name": "stderr",
     "output_type": "stream",
     "text": [
      "Generating test split: 100%|██████████| 900/900 [00:00<00:00, 122724.20 examples/s]\n"
     ]
    }
   ],
   "source": [
    "from datasets import load_dataset\n",
    "\n",
    "ds = load_dataset(\"facebook/belebele\", \"hin_Deva\")"
   ]
  },
  {
   "cell_type": "code",
   "execution_count": 194,
   "id": "3255f08b",
   "metadata": {},
   "outputs": [
    {
     "data": {
      "text/plain": [
       "DatasetDict({\n",
       "    test: Dataset({\n",
       "        features: ['link', 'question_number', 'flores_passage', 'question', 'mc_answer1', 'mc_answer2', 'mc_answer3', 'mc_answer4', 'correct_answer_num', 'dialect', 'ds'],\n",
       "        num_rows: 900\n",
       "    })\n",
       "})"
      ]
     },
     "execution_count": 194,
     "metadata": {},
     "output_type": "execute_result"
    }
   ],
   "source": [
    "ds"
   ]
  },
  {
   "cell_type": "markdown",
   "id": "c57ad5ba",
   "metadata": {},
   "source": [
    "XQuADRetrieval"
   ]
  },
  {
   "cell_type": "code",
   "execution_count": 198,
   "id": "5c2014ea",
   "metadata": {},
   "outputs": [],
   "source": [
    "from mteb.tasks import XQuADRetrieval\n",
    "\n",
    "task = XQuADRetrieval()\n",
    "task.load_data()"
   ]
  },
  {
   "cell_type": "code",
   "execution_count": 203,
   "id": "e33e5353",
   "metadata": {},
   "outputs": [],
   "source": [
    "task.dataset"
   ]
  },
  {
   "cell_type": "code",
   "execution_count": 200,
   "id": "781780bd",
   "metadata": {},
   "outputs": [
    {
     "data": {
      "text/plain": [
       "['validation']"
      ]
     },
     "execution_count": 200,
     "metadata": {},
     "output_type": "execute_result"
    }
   ],
   "source": [
    "task.eval_splits"
   ]
  },
  {
   "cell_type": "markdown",
   "id": "46c649a4",
   "metadata": {},
   "source": [
    "WikipediaRerankingMultilingual"
   ]
  },
  {
   "cell_type": "code",
   "execution_count": 11,
   "id": "fc1df602",
   "metadata": {},
   "outputs": [],
   "source": [
    "from mteb.tasks import WikipediaRerankingMultilingual\n",
    "\n",
    "task = WikipediaRerankingMultilingual()\n",
    "task.load_data()"
   ]
  },
  {
   "cell_type": "code",
   "execution_count": 206,
   "id": "95ea432c",
   "metadata": {},
   "outputs": [
    {
     "data": {
      "text/plain": [
       "DatasetDict({\n",
       "    test: Dataset({\n",
       "        features: ['query', 'positive', 'negative'],\n",
       "        num_rows: 1500\n",
       "    })\n",
       "})"
      ]
     },
     "execution_count": 206,
     "metadata": {},
     "output_type": "execute_result"
    }
   ],
   "source": [
    "task.dataset['hi']"
   ]
  },
  {
   "cell_type": "markdown",
   "id": "78dbe5fc",
   "metadata": {},
   "source": [
    "IndicCrosslingualSTS"
   ]
  },
  {
   "cell_type": "code",
   "execution_count": 1,
   "id": "fae8c08a",
   "metadata": {},
   "outputs": [
    {
     "name": "stderr",
     "output_type": "stream",
     "text": [
      "/raid/toxicity/miniconda3/envs/Hinvec/lib/python3.12/site-packages/tqdm/auto.py:21: TqdmWarning: IProgress not found. Please update jupyter and ipywidgets. See https://ipywidgets.readthedocs.io/en/stable/user_install.html\n",
      "  from .autonotebook import tqdm as notebook_tqdm\n"
     ]
    },
    {
     "name": "stdout",
     "output_type": "stream",
     "text": [
      "[2025-05-09 13:45:02,712] [INFO] [real_accelerator.py:239:get_accelerator] Setting ds_accelerator to cuda (auto detect)\n"
     ]
    },
    {
     "name": "stderr",
     "output_type": "stream",
     "text": [
      "/raid/toxicity/miniconda3/envs/Hinvec/compiler_compat/ld: cannot find -laio: No such file or directory\n",
      "collect2: error: ld returned 1 exit status\n",
      "/raid/toxicity/miniconda3/envs/Hinvec/compiler_compat/ld: warning: libpthread.so.0, needed by /usr/local/cuda/lib64/libcufile.so, not found (try using -rpath or -rpath-link)\n",
      "/raid/toxicity/miniconda3/envs/Hinvec/compiler_compat/ld: warning: libstdc++.so.6, needed by /usr/local/cuda/lib64/libcufile.so, not found (try using -rpath or -rpath-link)\n",
      "/raid/toxicity/miniconda3/envs/Hinvec/compiler_compat/ld: warning: libm.so.6, needed by /usr/local/cuda/lib64/libcufile.so, not found (try using -rpath or -rpath-link)\n",
      "/raid/toxicity/miniconda3/envs/Hinvec/compiler_compat/ld: /usr/local/cuda/lib64/libcufile.so: undefined reference to `std::runtime_error::~runtime_error()@GLIBCXX_3.4'\n",
      "/raid/toxicity/miniconda3/envs/Hinvec/compiler_compat/ld: /usr/local/cuda/lib64/libcufile.so: undefined reference to `__gxx_personality_v0@CXXABI_1.3'\n",
      "/raid/toxicity/miniconda3/envs/Hinvec/compiler_compat/ld: /usr/local/cuda/lib64/libcufile.so: undefined reference to `std::ostream::tellp()@GLIBCXX_3.4'\n",
      "/raid/toxicity/miniconda3/envs/Hinvec/compiler_compat/ld: /usr/local/cuda/lib64/libcufile.so: undefined reference to `std::chrono::_V2::steady_clock::now()@GLIBCXX_3.4.19'\n",
      "/raid/toxicity/miniconda3/envs/Hinvec/compiler_compat/ld: /usr/local/cuda/lib64/libcufile.so: undefined reference to `std::string::_M_replace_aux(unsigned long, unsigned long, unsigned long, char)@GLIBCXX_3.4'\n",
      "/raid/toxicity/miniconda3/envs/Hinvec/compiler_compat/ld: /usr/local/cuda/lib64/libcufile.so: undefined reference to `typeinfo for bool@CXXABI_1.3'\n",
      "/raid/toxicity/miniconda3/envs/Hinvec/compiler_compat/ld: /usr/local/cuda/lib64/libcufile.so: undefined reference to `std::__throw_logic_error(char const*)@GLIBCXX_3.4'\n",
      "/raid/toxicity/miniconda3/envs/Hinvec/compiler_compat/ld: /usr/local/cuda/lib64/libcufile.so: undefined reference to `VTT for std::basic_ostringstream<char, std::char_traits<char>, std::allocator<char> >@GLIBCXX_3.4'\n",
      "/raid/toxicity/miniconda3/envs/Hinvec/compiler_compat/ld: /usr/local/cuda/lib64/libcufile.so: undefined reference to `vtable for std::logic_error@GLIBCXX_3.4'\n",
      "/raid/toxicity/miniconda3/envs/Hinvec/compiler_compat/ld: /usr/local/cuda/lib64/libcufile.so: undefined reference to `std::locale::~locale()@GLIBCXX_3.4'\n",
      "/raid/toxicity/miniconda3/envs/Hinvec/compiler_compat/ld: /usr/local/cuda/lib64/libcufile.so: undefined reference to `std::basic_string<char, std::char_traits<char>, std::allocator<char> >::basic_string(std::string const&, unsigned long, unsigned long)@GLIBCXX_3.4'\n",
      "/raid/toxicity/miniconda3/envs/Hinvec/compiler_compat/ld: /usr/local/cuda/lib64/libcufile.so: undefined reference to `__cxa_end_catch@CXXABI_1.3'\n",
      "/raid/toxicity/miniconda3/envs/Hinvec/compiler_compat/ld: /usr/local/cuda/lib64/libcufile.so: undefined reference to `VTT for std::basic_ofstream<char, std::char_traits<char> >@GLIBCXX_3.4'\n",
      "/raid/toxicity/miniconda3/envs/Hinvec/compiler_compat/ld: /usr/local/cuda/lib64/libcufile.so: undefined reference to `std::logic_error::~logic_error()@GLIBCXX_3.4'\n",
      "/raid/toxicity/miniconda3/envs/Hinvec/compiler_compat/ld: /usr/local/cuda/lib64/libcufile.so: undefined reference to `vtable for __cxxabiv1::__si_class_type_info@CXXABI_1.3'\n",
      "/raid/toxicity/miniconda3/envs/Hinvec/compiler_compat/ld: /usr/local/cuda/lib64/libcufile.so: undefined reference to `std::basic_ios<char, std::char_traits<char> >::_M_cache_locale(std::locale const&)@GLIBCXX_3.4'\n",
      "/raid/toxicity/miniconda3/envs/Hinvec/compiler_compat/ld: /usr/local/cuda/lib64/libcufile.so: undefined reference to `VTT for std::basic_stringstream<char, std::char_traits<char>, std::allocator<char> >@GLIBCXX_3.4'\n",
      "/raid/toxicity/miniconda3/envs/Hinvec/compiler_compat/ld: /usr/local/cuda/lib64/libcufile.so: undefined reference to `operator new[](unsigned long)@GLIBCXX_3.4'\n",
      "/raid/toxicity/miniconda3/envs/Hinvec/compiler_compat/ld: /usr/local/cuda/lib64/libcufile.so: undefined reference to `std::string::_M_leak_hard()@GLIBCXX_3.4'\n",
      "/raid/toxicity/miniconda3/envs/Hinvec/compiler_compat/ld: /usr/local/cuda/lib64/libcufile.so: undefined reference to `vtable for std::basic_ifstream<char, std::char_traits<char> >@GLIBCXX_3.4'\n",
      "/raid/toxicity/miniconda3/envs/Hinvec/compiler_compat/ld: /usr/local/cuda/lib64/libcufile.so: undefined reference to `std::basic_streambuf<wchar_t, std::char_traits<wchar_t> >::basic_streambuf(std::basic_streambuf<wchar_t, std::char_traits<wchar_t> > const&)@GLIBCXX_3.4'\n",
      "/raid/toxicity/miniconda3/envs/Hinvec/compiler_compat/ld: /usr/local/cuda/lib64/libcufile.so: undefined reference to `std::string::append(char const*, unsigned long)@GLIBCXX_3.4'\n",
      "/raid/toxicity/miniconda3/envs/Hinvec/compiler_compat/ld: /usr/local/cuda/lib64/libcufile.so: undefined reference to `std::basic_string<char, std::char_traits<char>, std::allocator<char> >::basic_string(std::string const&)@GLIBCXX_3.4'\n",
      "/raid/toxicity/miniconda3/envs/Hinvec/compiler_compat/ld: /usr/local/cuda/lib64/libcufile.so: undefined reference to `typeinfo for unsigned short@CXXABI_1.3'\n",
      "/raid/toxicity/miniconda3/envs/Hinvec/compiler_compat/ld: /usr/local/cuda/lib64/libcufile.so: undefined reference to `std::string::resize(unsigned long, char)@GLIBCXX_3.4'\n",
      "/raid/toxicity/miniconda3/envs/Hinvec/compiler_compat/ld: /usr/local/cuda/lib64/libcufile.so: undefined reference to `typeinfo for char const*@CXXABI_1.3'\n",
      "/raid/toxicity/miniconda3/envs/Hinvec/compiler_compat/ld: /usr/local/cuda/lib64/libcufile.so: undefined reference to `std::ctype<char>::_M_widen_init() const@GLIBCXX_3.4.11'\n",
      "/raid/toxicity/miniconda3/envs/Hinvec/compiler_compat/ld: /usr/local/cuda/lib64/libcufile.so: undefined reference to `std::__throw_invalid_argument(char const*)@GLIBCXX_3.4'\n",
      "/raid/toxicity/miniconda3/envs/Hinvec/compiler_compat/ld: /usr/local/cuda/lib64/libcufile.so: undefined reference to `std::locale::operator=(std::locale const&)@GLIBCXX_3.4'\n",
      "/raid/toxicity/miniconda3/envs/Hinvec/compiler_compat/ld: /usr/local/cuda/lib64/libcufile.so: undefined reference to `std::basic_ios<wchar_t, std::char_traits<wchar_t> >::_M_cache_locale(std::locale const&)@GLIBCXX_3.4'\n",
      "/raid/toxicity/miniconda3/envs/Hinvec/compiler_compat/ld: /usr/local/cuda/lib64/libcufile.so: undefined reference to `std::_Rb_tree_decrement(std::_Rb_tree_node_base const*)@GLIBCXX_3.4'\n",
      "/raid/toxicity/miniconda3/envs/Hinvec/compiler_compat/ld: /usr/local/cuda/lib64/libcufile.so: undefined reference to `__cxa_free_exception@CXXABI_1.3'\n",
      "/raid/toxicity/miniconda3/envs/Hinvec/compiler_compat/ld: /usr/local/cuda/lib64/libcufile.so: undefined reference to `std::condition_variable::notify_one()@GLIBCXX_3.4.11'\n",
      "/raid/toxicity/miniconda3/envs/Hinvec/compiler_compat/ld: /usr/local/cuda/lib64/libcufile.so: undefined reference to `std::ios_base::Init::~Init()@GLIBCXX_3.4'\n",
      "/raid/toxicity/miniconda3/envs/Hinvec/compiler_compat/ld: /usr/local/cuda/lib64/libcufile.so: undefined reference to `std::basic_string<char, std::char_traits<char>, std::allocator<char> >::~basic_string()@GLIBCXX_3.4'\n",
      "/raid/toxicity/miniconda3/envs/Hinvec/compiler_compat/ld: /usr/local/cuda/lib64/libcufile.so: undefined reference to `__cxa_pure_virtual@CXXABI_1.3'\n",
      "/raid/toxicity/miniconda3/envs/Hinvec/compiler_compat/ld: /usr/local/cuda/lib64/libcufile.so: undefined reference to `std::ostream::flush()@GLIBCXX_3.4'\n",
      "/raid/toxicity/miniconda3/envs/Hinvec/compiler_compat/ld: /usr/local/cuda/lib64/libcufile.so: undefined reference to `vtable for __cxxabiv1::__class_type_info@CXXABI_1.3'\n",
      "/raid/toxicity/miniconda3/envs/Hinvec/compiler_compat/ld: /usr/local/cuda/lib64/libcufile.so: undefined reference to `__cxa_rethrow@CXXABI_1.3'\n",
      "/raid/toxicity/miniconda3/envs/Hinvec/compiler_compat/ld: /usr/local/cuda/lib64/libcufile.so: undefined reference to `vtable for std::basic_stringbuf<char, std::char_traits<char>, std::allocator<char> >@GLIBCXX_3.4'\n",
      "/raid/toxicity/miniconda3/envs/Hinvec/compiler_compat/ld: /usr/local/cuda/lib64/libcufile.so: undefined reference to `std::basic_fstream<char, std::char_traits<char> >::~basic_fstream()@GLIBCXX_3.4'\n",
      "/raid/toxicity/miniconda3/envs/Hinvec/compiler_compat/ld: /usr/local/cuda/lib64/libcufile.so: undefined reference to `std::string::compare(char const*) const@GLIBCXX_3.4'\n",
      "/raid/toxicity/miniconda3/envs/Hinvec/compiler_compat/ld: /usr/local/cuda/lib64/libcufile.so: undefined reference to `VTT for std::basic_ostringstream<wchar_t, std::char_traits<wchar_t>, std::allocator<wchar_t> >@GLIBCXX_3.4'\n",
      "/raid/toxicity/miniconda3/envs/Hinvec/compiler_compat/ld: /usr/local/cuda/lib64/libcufile.so: undefined reference to `std::locale::locale()@GLIBCXX_3.4'\n",
      "/raid/toxicity/miniconda3/envs/Hinvec/compiler_compat/ld: /usr/local/cuda/lib64/libcufile.so: undefined reference to `std::chrono::_V2::system_clock::now()@GLIBCXX_3.4.19'\n",
      "/raid/toxicity/miniconda3/envs/Hinvec/compiler_compat/ld: /usr/local/cuda/lib64/libcufile.so: undefined reference to `VTT for std::basic_ifstream<char, std::char_traits<char> >@GLIBCXX_3.4'\n",
      "/raid/toxicity/miniconda3/envs/Hinvec/compiler_compat/ld: /usr/local/cuda/lib64/libcufile.so: undefined reference to `std::_Hash_bytes(void const*, unsigned long, unsigned long)@CXXABI_1.3.5'\n",
      "/raid/toxicity/miniconda3/envs/Hinvec/compiler_compat/ld: /usr/local/cuda/lib64/libcufile.so: undefined reference to `std::ostream& std::ostream::_M_insert<long long>(long long)@GLIBCXX_3.4.9'\n",
      "/raid/toxicity/miniconda3/envs/Hinvec/compiler_compat/ld: /usr/local/cuda/lib64/libcufile.so: undefined reference to `typeinfo for char*@CXXABI_1.3'\n",
      "/raid/toxicity/miniconda3/envs/Hinvec/compiler_compat/ld: /usr/local/cuda/lib64/libcufile.so: undefined reference to `std::__detail::_Prime_rehash_policy::_M_need_rehash(unsigned long, unsigned long, unsigned long) const@GLIBCXX_3.4.18'\n",
      "/raid/toxicity/miniconda3/envs/Hinvec/compiler_compat/ld: /usr/local/cuda/lib64/libcufile.so: undefined reference to `vtable for std::out_of_range@GLIBCXX_3.4'\n",
      "/raid/toxicity/miniconda3/envs/Hinvec/compiler_compat/ld: /usr/local/cuda/lib64/libcufile.so: undefined reference to `std::ostream& std::ostream::_M_insert<unsigned long>(unsigned long)@GLIBCXX_3.4.9'\n",
      "/raid/toxicity/miniconda3/envs/Hinvec/compiler_compat/ld: /usr/local/cuda/lib64/libcufile.so: undefined reference to `std::_Rb_tree_increment(std::_Rb_tree_node_base const*)@GLIBCXX_3.4'\n",
      "/raid/toxicity/miniconda3/envs/Hinvec/compiler_compat/ld: /usr/local/cuda/lib64/libcufile.so: undefined reference to `std::ios_base::~ios_base()@GLIBCXX_3.4'\n",
      "/raid/toxicity/miniconda3/envs/Hinvec/compiler_compat/ld: /usr/local/cuda/lib64/libcufile.so: undefined reference to `std::range_error::~range_error()@GLIBCXX_3.4'\n",
      "/raid/toxicity/miniconda3/envs/Hinvec/compiler_compat/ld: /usr/local/cuda/lib64/libcufile.so: undefined reference to `std::__basic_file<char>::~__basic_file()@GLIBCXX_3.4'\n",
      "/raid/toxicity/miniconda3/envs/Hinvec/compiler_compat/ld: /usr/local/cuda/lib64/libcufile.so: undefined reference to `__cxa_guard_acquire@CXXABI_1.3'\n",
      "/raid/toxicity/miniconda3/envs/Hinvec/compiler_compat/ld: /usr/local/cuda/lib64/libcufile.so: undefined reference to `std::ostream& std::ostream::_M_insert<bool>(bool)@GLIBCXX_3.4.9'\n",
      "/raid/toxicity/miniconda3/envs/Hinvec/compiler_compat/ld: /usr/local/cuda/lib64/libcufile.so: undefined reference to `vtable for std::overflow_error@GLIBCXX_3.4'\n",
      "/raid/toxicity/miniconda3/envs/Hinvec/compiler_compat/ld: /usr/local/cuda/lib64/libcufile.so: undefined reference to `VTT for std::basic_fstream<char, std::char_traits<char> >@GLIBCXX_3.4'\n",
      "/raid/toxicity/miniconda3/envs/Hinvec/compiler_compat/ld: /usr/local/cuda/lib64/libcufile.so: undefined reference to `vtable for std::range_error@GLIBCXX_3.4'\n",
      "/raid/toxicity/miniconda3/envs/Hinvec/compiler_compat/ld: /usr/local/cuda/lib64/libcufile.so: undefined reference to `vtable for std::basic_ios<char, std::char_traits<char> >@GLIBCXX_3.4'\n",
      "/raid/toxicity/miniconda3/envs/Hinvec/compiler_compat/ld: /usr/local/cuda/lib64/libcufile.so: undefined reference to `vtable for std::basic_filebuf<char, std::char_traits<char> >@GLIBCXX_3.4'\n",
      "/raid/toxicity/miniconda3/envs/Hinvec/compiler_compat/ld: /usr/local/cuda/lib64/libcufile.so: undefined reference to `operator delete[](void*)@GLIBCXX_3.4'\n",
      "/raid/toxicity/miniconda3/envs/Hinvec/compiler_compat/ld: /usr/local/cuda/lib64/libcufile.so: undefined reference to `vtable for std::basic_stringstream<char, std::char_traits<char>, std::allocator<char> >@GLIBCXX_3.4'\n",
      "/raid/toxicity/miniconda3/envs/Hinvec/compiler_compat/ld: /usr/local/cuda/lib64/libcufile.so: undefined reference to `std::basic_string<char, std::char_traits<char>, std::allocator<char> >::basic_string(unsigned long, char, std::allocator<char> const&)@GLIBCXX_3.4'\n",
      "/raid/toxicity/miniconda3/envs/Hinvec/compiler_compat/ld: /usr/local/cuda/lib64/libcufile.so: undefined reference to `std::__detail::_List_node_base::_M_transfer(std::__detail::_List_node_base*, std::__detail::_List_node_base*)@GLIBCXX_3.4.15'\n",
      "/raid/toxicity/miniconda3/envs/Hinvec/compiler_compat/ld: /usr/local/cuda/lib64/libcufile.so: undefined reference to `std::string::replace(unsigned long, unsigned long, char const*, unsigned long)@GLIBCXX_3.4'\n",
      "/raid/toxicity/miniconda3/envs/Hinvec/compiler_compat/ld: /usr/local/cuda/lib64/libcufile.so: undefined reference to `typeinfo for std::exception@GLIBCXX_3.4'\n",
      "/raid/toxicity/miniconda3/envs/Hinvec/compiler_compat/ld: /usr/local/cuda/lib64/libcufile.so: undefined reference to `std::basic_string<wchar_t, std::char_traits<wchar_t>, std::allocator<wchar_t> >::_Rep::_M_destroy(std::allocator<wchar_t> const&)@GLIBCXX_3.4'\n",
      "/raid/toxicity/miniconda3/envs/Hinvec/compiler_compat/ld: /usr/local/cuda/lib64/libcufile.so: undefined reference to `std::istream& std::istream::_M_extract<double>(double&)@GLIBCXX_3.4.9'\n",
      "/raid/toxicity/miniconda3/envs/Hinvec/compiler_compat/ld: /usr/local/cuda/lib64/libcufile.so: undefined reference to `std::basic_filebuf<char, std::char_traits<char> >::close()@GLIBCXX_3.4'\n",
      "/raid/toxicity/miniconda3/envs/Hinvec/compiler_compat/ld: /usr/local/cuda/lib64/libcufile.so: undefined reference to `vtable for std::basic_fstream<char, std::char_traits<char> >@GLIBCXX_3.4'\n",
      "/raid/toxicity/miniconda3/envs/Hinvec/compiler_compat/ld: /usr/local/cuda/lib64/libcufile.so: undefined reference to `std::basic_ifstream<char, std::char_traits<char> >::basic_ifstream(char const*, std::_Ios_Openmode)@GLIBCXX_3.4'\n",
      "/raid/toxicity/miniconda3/envs/Hinvec/compiler_compat/ld: /usr/local/cuda/lib64/libcufile.so: undefined reference to `std::string::append(std::string const&)@GLIBCXX_3.4'\n",
      "/raid/toxicity/miniconda3/envs/Hinvec/compiler_compat/ld: /usr/local/cuda/lib64/libcufile.so: undefined reference to `operator new(unsigned long)@GLIBCXX_3.4'\n",
      "/raid/toxicity/miniconda3/envs/Hinvec/compiler_compat/ld: /usr/local/cuda/lib64/libcufile.so: undefined reference to `VTT for std::basic_istringstream<wchar_t, std::char_traits<wchar_t>, std::allocator<wchar_t> >@GLIBCXX_3.4'\n",
      "/raid/toxicity/miniconda3/envs/Hinvec/compiler_compat/ld: /usr/local/cuda/lib64/libcufile.so: undefined reference to `typeinfo for unsigned int@CXXABI_1.3'\n",
      "/raid/toxicity/miniconda3/envs/Hinvec/compiler_compat/ld: /usr/local/cuda/lib64/libcufile.so: undefined reference to `std::string::append(char const*)@GLIBCXX_3.4'\n",
      "/raid/toxicity/miniconda3/envs/Hinvec/compiler_compat/ld: /usr/local/cuda/lib64/libcufile.so: undefined reference to `vtable for std::domain_error@GLIBCXX_3.4'\n",
      "/raid/toxicity/miniconda3/envs/Hinvec/compiler_compat/ld: /usr/local/cuda/lib64/libcufile.so: undefined reference to `std::string::find(char, unsigned long) const@GLIBCXX_3.4'\n",
      "/raid/toxicity/miniconda3/envs/Hinvec/compiler_compat/ld: /usr/local/cuda/lib64/libcufile.so: undefined reference to `std::ostream::put(char)@GLIBCXX_3.4'\n",
      "/raid/toxicity/miniconda3/envs/Hinvec/compiler_compat/ld: /usr/local/cuda/lib64/libcufile.so: undefined reference to `typeinfo for int@CXXABI_1.3'\n",
      "/raid/toxicity/miniconda3/envs/Hinvec/compiler_compat/ld: /usr/local/cuda/lib64/libcufile.so: undefined reference to `std::__throw_bad_alloc()@GLIBCXX_3.4'\n",
      "/raid/toxicity/miniconda3/envs/Hinvec/compiler_compat/ld: /usr/local/cuda/lib64/libcufile.so: undefined reference to `__cxa_thread_atexit@CXXABI_1.3.7'\n",
      "/raid/toxicity/miniconda3/envs/Hinvec/compiler_compat/ld: /usr/local/cuda/lib64/libcufile.so: undefined reference to `typeinfo for unsigned int*@CXXABI_1.3'\n",
      "/raid/toxicity/miniconda3/envs/Hinvec/compiler_compat/ld: /usr/local/cuda/lib64/libcufile.so: undefined reference to `std::_Rb_tree_increment(std::_Rb_tree_node_base*)@GLIBCXX_3.4'\n",
      "/raid/toxicity/miniconda3/envs/Hinvec/compiler_compat/ld: /usr/local/cuda/lib64/libcufile.so: undefined reference to `std::basic_ifstream<char, std::char_traits<char> >::~basic_ifstream()@GLIBCXX_3.4'\n",
      "/raid/toxicity/miniconda3/envs/Hinvec/compiler_compat/ld: /usr/local/cuda/lib64/libcufile.so: undefined reference to `std::ios_base::Init::Init()@GLIBCXX_3.4'\n",
      "/raid/toxicity/miniconda3/envs/Hinvec/compiler_compat/ld: /usr/local/cuda/lib64/libcufile.so: undefined reference to `std::condition_variable::condition_variable()@GLIBCXX_3.4.11'\n",
      "/raid/toxicity/miniconda3/envs/Hinvec/compiler_compat/ld: /usr/local/cuda/lib64/libcufile.so: undefined reference to `std::basic_filebuf<char, std::char_traits<char> >::basic_filebuf()@GLIBCXX_3.4'\n",
      "/raid/toxicity/miniconda3/envs/Hinvec/compiler_compat/ld: /usr/local/cuda/lib64/libcufile.so: undefined reference to `VTT for std::basic_istringstream<char, std::char_traits<char>, std::allocator<char> >@GLIBCXX_3.4'\n",
      "/raid/toxicity/miniconda3/envs/Hinvec/compiler_compat/ld: /usr/local/cuda/lib64/libcufile.so: undefined reference to `std::domain_error::~domain_error()@GLIBCXX_3.4'\n",
      "/raid/toxicity/miniconda3/envs/Hinvec/compiler_compat/ld: /usr/local/cuda/lib64/libcufile.so: undefined reference to `std::cerr@GLIBCXX_3.4'\n",
      "/raid/toxicity/miniconda3/envs/Hinvec/compiler_compat/ld: /usr/local/cuda/lib64/libcufile.so: undefined reference to `std::string::find(char const*, unsigned long, unsigned long) const@GLIBCXX_3.4'\n",
      "/raid/toxicity/miniconda3/envs/Hinvec/compiler_compat/ld: /usr/local/cuda/lib64/libcufile.so: undefined reference to `vtable for std::basic_istringstream<char, std::char_traits<char>, std::allocator<char> >@GLIBCXX_3.4'\n",
      "/raid/toxicity/miniconda3/envs/Hinvec/compiler_compat/ld: /usr/local/cuda/lib64/libcufile.so: undefined reference to `std::basic_string<char, std::char_traits<char>, std::allocator<char> >::basic_string(std::allocator<char> const&)@GLIBCXX_3.4'\n",
      "/raid/toxicity/miniconda3/envs/Hinvec/compiler_compat/ld: /usr/local/cuda/lib64/libcufile.so: undefined reference to `std::basic_stringbuf<char, std::char_traits<char>, std::allocator<char> >::str() const@GLIBCXX_3.4'\n",
      "/raid/toxicity/miniconda3/envs/Hinvec/compiler_compat/ld: /usr/local/cuda/lib64/libcufile.so: undefined reference to `vtable for std::invalid_argument@GLIBCXX_3.4'\n",
      "/raid/toxicity/miniconda3/envs/Hinvec/compiler_compat/ld: /usr/local/cuda/lib64/libcufile.so: undefined reference to `typeinfo for void*@CXXABI_1.3'\n",
      "/raid/toxicity/miniconda3/envs/Hinvec/compiler_compat/ld: /usr/local/cuda/lib64/libcufile.so: undefined reference to `std::string::assign(std::string const&)@GLIBCXX_3.4'\n",
      "/raid/toxicity/miniconda3/envs/Hinvec/compiler_compat/ld: /usr/local/cuda/lib64/libcufile.so: undefined reference to `std::basic_ostringstream<char, std::char_traits<char>, std::allocator<char> >::~basic_ostringstream()@GLIBCXX_3.4'\n",
      "/raid/toxicity/miniconda3/envs/Hinvec/compiler_compat/ld: /usr/local/cuda/lib64/libcufile.so: undefined reference to `std::_Rb_tree_rebalance_for_erase(std::_Rb_tree_node_base*, std::_Rb_tree_node_base&)@GLIBCXX_3.4'\n",
      "/raid/toxicity/miniconda3/envs/Hinvec/compiler_compat/ld: /usr/local/cuda/lib64/libcufile.so: undefined reference to `typeinfo for unsigned long@CXXABI_1.3'\n",
      "/raid/toxicity/miniconda3/envs/Hinvec/compiler_compat/ld: /usr/local/cuda/lib64/libcufile.so: undefined reference to `std::__detail::_List_node_base::_M_hook(std::__detail::_List_node_base*)@GLIBCXX_3.4.15'\n",
      "/raid/toxicity/miniconda3/envs/Hinvec/compiler_compat/ld: /usr/local/cuda/lib64/libcufile.so: undefined reference to `std::__detail::_List_node_base::_M_unhook()@GLIBCXX_3.4.15'\n",
      "/raid/toxicity/miniconda3/envs/Hinvec/compiler_compat/ld: /usr/local/cuda/lib64/libcufile.so: undefined reference to `vtable for std::basic_ostringstream<wchar_t, std::char_traits<wchar_t>, std::allocator<wchar_t> >@GLIBCXX_3.4'\n",
      "/raid/toxicity/miniconda3/envs/Hinvec/compiler_compat/ld: /usr/local/cuda/lib64/libcufile.so: undefined reference to `std::basic_stringbuf<char, std::char_traits<char>, std::allocator<char> >::_M_sync(char*, unsigned long, unsigned long)@GLIBCXX_3.4'\n",
      "/raid/toxicity/miniconda3/envs/Hinvec/compiler_compat/ld: /usr/local/cuda/lib64/libcufile.so: undefined reference to `std::basic_iostream<char, std::char_traits<char> >::~basic_iostream()@GLIBCXX_3.4'\n",
      "/raid/toxicity/miniconda3/envs/Hinvec/compiler_compat/ld: /usr/local/cuda/lib64/libcufile.so: undefined reference to `std::locale::locale(std::locale const&)@GLIBCXX_3.4'\n",
      "/raid/toxicity/miniconda3/envs/Hinvec/compiler_compat/ld: /usr/local/cuda/lib64/libcufile.so: undefined reference to `vtable for std::basic_istringstream<wchar_t, std::char_traits<wchar_t>, std::allocator<wchar_t> >@GLIBCXX_3.4'\n",
      "/raid/toxicity/miniconda3/envs/Hinvec/compiler_compat/ld: /usr/local/cuda/lib64/libcufile.so: undefined reference to `log2f@GLIBC_2.2.5'\n",
      "/raid/toxicity/miniconda3/envs/Hinvec/compiler_compat/ld: /usr/local/cuda/lib64/libcufile.so: undefined reference to `std::ostream::operator<<(std::basic_streambuf<char, std::char_traits<char> >*)@GLIBCXX_3.4'\n",
      "/raid/toxicity/miniconda3/envs/Hinvec/compiler_compat/ld: /usr/local/cuda/lib64/libcufile.so: undefined reference to `vtable for std::basic_streambuf<wchar_t, std::char_traits<wchar_t> >@GLIBCXX_3.4'\n",
      "/raid/toxicity/miniconda3/envs/Hinvec/compiler_compat/ld: /usr/local/cuda/lib64/libcufile.so: undefined reference to `std::exception::~exception()@GLIBCXX_3.4'\n",
      "/raid/toxicity/miniconda3/envs/Hinvec/compiler_compat/ld: /usr/local/cuda/lib64/libcufile.so: undefined reference to `std::string::_Rep::_S_create(unsigned long, unsigned long, std::allocator<char> const&)@GLIBCXX_3.4'\n",
      "/raid/toxicity/miniconda3/envs/Hinvec/compiler_compat/ld: /usr/local/cuda/lib64/libcufile.so: undefined reference to `std::__basic_file<char>::is_open() const@GLIBCXX_3.4'\n",
      "/raid/toxicity/miniconda3/envs/Hinvec/compiler_compat/ld: /usr/local/cuda/lib64/libcufile.so: undefined reference to `std::basic_istringstream<char, std::char_traits<char>, std::allocator<char> >::~basic_istringstream()@GLIBCXX_3.4'\n",
      "/raid/toxicity/miniconda3/envs/Hinvec/compiler_compat/ld: /usr/local/cuda/lib64/libcufile.so: undefined reference to `std::string::swap(std::string&)@GLIBCXX_3.4'\n",
      "/raid/toxicity/miniconda3/envs/Hinvec/compiler_compat/ld: /usr/local/cuda/lib64/libcufile.so: undefined reference to `vtable for std::basic_ostringstream<char, std::char_traits<char>, std::allocator<char> >@GLIBCXX_3.4'\n",
      "/raid/toxicity/miniconda3/envs/Hinvec/compiler_compat/ld: /usr/local/cuda/lib64/libcufile.so: undefined reference to `std::basic_streambuf<char, std::char_traits<char> >::basic_streambuf(std::basic_streambuf<char, std::char_traits<char> > const&)@GLIBCXX_3.4'\n",
      "/raid/toxicity/miniconda3/envs/Hinvec/compiler_compat/ld: /usr/local/cuda/lib64/libcufile.so: undefined reference to `std::basic_ios<char, std::char_traits<char> >::init(std::basic_streambuf<char, std::char_traits<char> >*)@GLIBCXX_3.4'\n",
      "/raid/toxicity/miniconda3/envs/Hinvec/compiler_compat/ld: /usr/local/cuda/lib64/libcufile.so: undefined reference to `std::__throw_bad_cast()@GLIBCXX_3.4'\n",
      "/raid/toxicity/miniconda3/envs/Hinvec/compiler_compat/ld: /usr/local/cuda/lib64/libcufile.so: undefined reference to `std::basic_ios<char, std::char_traits<char> >::clear(std::_Ios_Iostate)@GLIBCXX_3.4'\n",
      "/raid/toxicity/miniconda3/envs/Hinvec/compiler_compat/ld: /usr/local/cuda/lib64/libcufile.so: undefined reference to `std::basic_streambuf<wchar_t, std::char_traits<wchar_t> >::operator=(std::basic_streambuf<wchar_t, std::char_traits<wchar_t> > const&)@GLIBCXX_3.4'\n",
      "/raid/toxicity/miniconda3/envs/Hinvec/compiler_compat/ld: /usr/local/cuda/lib64/libcufile.so: undefined reference to `typeinfo for long*@CXXABI_1.3'\n",
      "/raid/toxicity/miniconda3/envs/Hinvec/compiler_compat/ld: /usr/local/cuda/lib64/libcufile.so: undefined reference to `operator delete(void*)@GLIBCXX_3.4'\n",
      "/raid/toxicity/miniconda3/envs/Hinvec/compiler_compat/ld: /usr/local/cuda/lib64/libcufile.so: undefined reference to `std::ostream::operator<<(int)@GLIBCXX_3.4'\n",
      "/raid/toxicity/miniconda3/envs/Hinvec/compiler_compat/ld: /usr/local/cuda/lib64/libcufile.so: undefined reference to `std::string::_Rep::_S_empty_rep_storage@GLIBCXX_3.4'\n",
      "/raid/toxicity/miniconda3/envs/Hinvec/compiler_compat/ld: /usr/local/cuda/lib64/libcufile.so: undefined reference to `std::string::_Rep::_M_destroy(std::allocator<char> const&)@GLIBCXX_3.4'\n",
      "/raid/toxicity/miniconda3/envs/Hinvec/compiler_compat/ld: /usr/local/cuda/lib64/libcufile.so: undefined reference to `std::basic_iostream<wchar_t, std::char_traits<wchar_t> >::~basic_iostream()@GLIBCXX_3.4'\n",
      "/raid/toxicity/miniconda3/envs/Hinvec/compiler_compat/ld: /usr/local/cuda/lib64/libcufile.so: undefined reference to `vtable for std::runtime_error@GLIBCXX_3.4'\n",
      "/raid/toxicity/miniconda3/envs/Hinvec/compiler_compat/ld: /usr/local/cuda/lib64/libcufile.so: undefined reference to `vtable for std::basic_ofstream<char, std::char_traits<char> >@GLIBCXX_3.4'\n",
      "/raid/toxicity/miniconda3/envs/Hinvec/compiler_compat/ld: /usr/local/cuda/lib64/libcufile.so: undefined reference to `std::_Rb_tree_insert_and_rebalance(bool, std::_Rb_tree_node_base*, std::_Rb_tree_node_base*, std::_Rb_tree_node_base&)@GLIBCXX_3.4'\n",
      "/raid/toxicity/miniconda3/envs/Hinvec/compiler_compat/ld: /usr/local/cuda/lib64/libcufile.so: undefined reference to `std::basic_stringstream<char, std::char_traits<char>, std::allocator<char> >::~basic_stringstream()@GLIBCXX_3.4'\n",
      "/raid/toxicity/miniconda3/envs/Hinvec/compiler_compat/ld: /usr/local/cuda/lib64/libcufile.so: undefined reference to `VTT for std::basic_stringstream<wchar_t, std::char_traits<wchar_t>, std::allocator<wchar_t> >@GLIBCXX_3.4'\n",
      "/raid/toxicity/miniconda3/envs/Hinvec/compiler_compat/ld: /usr/local/cuda/lib64/libcufile.so: undefined reference to `std::ostream& std::ostream::_M_insert<long>(long)@GLIBCXX_3.4.9'\n",
      "/raid/toxicity/miniconda3/envs/Hinvec/compiler_compat/ld: /usr/local/cuda/lib64/libcufile.so: undefined reference to `std::istream::get()@GLIBCXX_3.4'\n",
      "/raid/toxicity/miniconda3/envs/Hinvec/compiler_compat/ld: /usr/local/cuda/lib64/libcufile.so: undefined reference to `typeinfo for unsigned long long@CXXABI_1.3'\n",
      "/raid/toxicity/miniconda3/envs/Hinvec/compiler_compat/ld: /usr/local/cuda/lib64/libcufile.so: undefined reference to `std::basic_ostream<char, std::char_traits<char> >& std::operator<< <std::char_traits<char> >(std::basic_ostream<char, std::char_traits<char> >&, char const*)@GLIBCXX_3.4'\n",
      "/raid/toxicity/miniconda3/envs/Hinvec/compiler_compat/ld: /usr/local/cuda/lib64/libcufile.so: undefined reference to `std::out_of_range::~out_of_range()@GLIBCXX_3.4'\n",
      "/raid/toxicity/miniconda3/envs/Hinvec/compiler_compat/ld: /usr/local/cuda/lib64/libcufile.so: undefined reference to `std::length_error::~length_error()@GLIBCXX_3.4'\n",
      "/raid/toxicity/miniconda3/envs/Hinvec/compiler_compat/ld: /usr/local/cuda/lib64/libcufile.so: undefined reference to `std::basic_ostream<char, std::char_traits<char> >& std::__ostream_insert<char, std::char_traits<char> >(std::basic_ostream<char, std::char_traits<char> >&, char const*, long)@GLIBCXX_3.4.9'\n",
      "/raid/toxicity/miniconda3/envs/Hinvec/compiler_compat/ld: /usr/local/cuda/lib64/libcufile.so: undefined reference to `std::invalid_argument::~invalid_argument()@GLIBCXX_3.4'\n",
      "/raid/toxicity/miniconda3/envs/Hinvec/compiler_compat/ld: /usr/local/cuda/lib64/libcufile.so: undefined reference to `std::basic_string<wchar_t, std::char_traits<wchar_t>, std::allocator<wchar_t> >::swap(std::basic_string<wchar_t, std::char_traits<wchar_t>, std::allocator<wchar_t> >&)@GLIBCXX_3.4'\n",
      "/raid/toxicity/miniconda3/envs/Hinvec/compiler_compat/ld: /usr/local/cuda/lib64/libcufile.so: undefined reference to `std::cout@GLIBCXX_3.4'\n",
      "/raid/toxicity/miniconda3/envs/Hinvec/compiler_compat/ld: /usr/local/cuda/lib64/libcufile.so: undefined reference to `std::ostream& std::ostream::_M_insert<unsigned long long>(unsigned long long)@GLIBCXX_3.4.9'\n",
      "/raid/toxicity/miniconda3/envs/Hinvec/compiler_compat/ld: /usr/local/cuda/lib64/libcufile.so: undefined reference to `std::ostream& std::ostream::_M_insert<void const*>(void const*)@GLIBCXX_3.4.9'\n",
      "/raid/toxicity/miniconda3/envs/Hinvec/compiler_compat/ld: /usr/local/cuda/lib64/libcufile.so: undefined reference to `vtable for std::underflow_error@GLIBCXX_3.4'\n",
      "/raid/toxicity/miniconda3/envs/Hinvec/compiler_compat/ld: /usr/local/cuda/lib64/libcufile.so: undefined reference to `vtable for std::basic_streambuf<char, std::char_traits<char> >@GLIBCXX_3.4'\n",
      "/raid/toxicity/miniconda3/envs/Hinvec/compiler_compat/ld: /usr/local/cuda/lib64/libcufile.so: undefined reference to `typeinfo for std::out_of_range@GLIBCXX_3.4'\n",
      "/raid/toxicity/miniconda3/envs/Hinvec/compiler_compat/ld: /usr/local/cuda/lib64/libcufile.so: undefined reference to `__cxa_allocate_exception@CXXABI_1.3'\n",
      "/raid/toxicity/miniconda3/envs/Hinvec/compiler_compat/ld: /usr/local/cuda/lib64/libcufile.so: undefined reference to `vtable for std::basic_ios<wchar_t, std::char_traits<wchar_t> >@GLIBCXX_3.4'\n",
      "/raid/toxicity/miniconda3/envs/Hinvec/compiler_compat/ld: /usr/local/cuda/lib64/libcufile.so: undefined reference to `typeinfo for void const*@CXXABI_1.3'\n",
      "/raid/toxicity/miniconda3/envs/Hinvec/compiler_compat/ld: /usr/local/cuda/lib64/libcufile.so: undefined reference to `std::basic_ios<wchar_t, std::char_traits<wchar_t> >::init(std::basic_streambuf<wchar_t, std::char_traits<wchar_t> >*)@GLIBCXX_3.4'\n",
      "/raid/toxicity/miniconda3/envs/Hinvec/compiler_compat/ld: /usr/local/cuda/lib64/libcufile.so: undefined reference to `std::string::reserve(unsigned long)@GLIBCXX_3.4'\n",
      "/raid/toxicity/miniconda3/envs/Hinvec/compiler_compat/ld: /usr/local/cuda/lib64/libcufile.so: undefined reference to `__cxa_begin_catch@CXXABI_1.3'\n",
      "/raid/toxicity/miniconda3/envs/Hinvec/compiler_compat/ld: /usr/local/cuda/lib64/libcufile.so: undefined reference to `typeinfo for long@CXXABI_1.3'\n",
      "/raid/toxicity/miniconda3/envs/Hinvec/compiler_compat/ld: /usr/local/cuda/lib64/libcufile.so: undefined reference to `std::basic_string<wchar_t, std::char_traits<wchar_t>, std::allocator<wchar_t> >::_Rep::_S_empty_rep_storage@GLIBCXX_3.4'\n",
      "/raid/toxicity/miniconda3/envs/Hinvec/compiler_compat/ld: /usr/local/cuda/lib64/libcufile.so: undefined reference to `std::string::_M_leak()@GLIBCXX_3.4'\n",
      "/raid/toxicity/miniconda3/envs/Hinvec/compiler_compat/ld: /usr/local/cuda/lib64/libcufile.so: undefined reference to `std::basic_filebuf<char, std::char_traits<char> >::open(char const*, std::_Ios_Openmode)@GLIBCXX_3.4'\n",
      "/raid/toxicity/miniconda3/envs/Hinvec/compiler_compat/ld: /usr/local/cuda/lib64/libcufile.so: undefined reference to `std::basic_stringbuf<wchar_t, std::char_traits<wchar_t>, std::allocator<wchar_t> >::_M_sync(wchar_t*, unsigned long, unsigned long)@GLIBCXX_3.4'\n",
      "/raid/toxicity/miniconda3/envs/Hinvec/compiler_compat/ld: /usr/local/cuda/lib64/libcufile.so: undefined reference to `std::istream::getline(char*, long, char)@GLIBCXX_3.4'\n",
      "/raid/toxicity/miniconda3/envs/Hinvec/compiler_compat/ld: /usr/local/cuda/lib64/libcufile.so: undefined reference to `std::basic_istream<char, std::char_traits<char> >& std::getline<char, std::char_traits<char>, std::allocator<char> >(std::basic_istream<char, std::char_traits<char> >&, std::basic_string<char, std::char_traits<char>, std::allocator<char> >&, char)@GLIBCXX_3.4'\n",
      "/raid/toxicity/miniconda3/envs/Hinvec/compiler_compat/ld: /usr/local/cuda/lib64/libcufile.so: undefined reference to `vtable for std::basic_stringstream<wchar_t, std::char_traits<wchar_t>, std::allocator<wchar_t> >@GLIBCXX_3.4'\n",
      "/raid/toxicity/miniconda3/envs/Hinvec/compiler_compat/ld: /usr/local/cuda/lib64/libcufile.so: undefined reference to `std::condition_variable::~condition_variable()@GLIBCXX_3.4.11'\n",
      "/raid/toxicity/miniconda3/envs/Hinvec/compiler_compat/ld: /usr/local/cuda/lib64/libcufile.so: undefined reference to `vtable for std::basic_stringbuf<wchar_t, std::char_traits<wchar_t>, std::allocator<wchar_t> >@GLIBCXX_3.4'\n",
      "/raid/toxicity/miniconda3/envs/Hinvec/compiler_compat/ld: /usr/local/cuda/lib64/libcufile.so: undefined reference to `std::string::insert(unsigned long, char const*, unsigned long)@GLIBCXX_3.4'\n",
      "/raid/toxicity/miniconda3/envs/Hinvec/compiler_compat/ld: /usr/local/cuda/lib64/libcufile.so: undefined reference to `std::string::assign(char const*, unsigned long)@GLIBCXX_3.4'\n",
      "/raid/toxicity/miniconda3/envs/Hinvec/compiler_compat/ld: /usr/local/cuda/lib64/libcufile.so: undefined reference to `typeinfo for unsigned char@CXXABI_1.3'\n",
      "/raid/toxicity/miniconda3/envs/Hinvec/compiler_compat/ld: /usr/local/cuda/lib64/libcufile.so: undefined reference to `std::ios_base::ios_base()@GLIBCXX_3.4'\n",
      "/raid/toxicity/miniconda3/envs/Hinvec/compiler_compat/ld: /usr/local/cuda/lib64/libcufile.so: undefined reference to `std::__throw_out_of_range(char const*)@GLIBCXX_3.4'\n",
      "/raid/toxicity/miniconda3/envs/Hinvec/compiler_compat/ld: /usr/local/cuda/lib64/libcufile.so: undefined reference to `std::overflow_error::~overflow_error()@GLIBCXX_3.4'\n",
      "/raid/toxicity/miniconda3/envs/Hinvec/compiler_compat/ld: /usr/local/cuda/lib64/libcufile.so: undefined reference to `std::__throw_length_error(char const*)@GLIBCXX_3.4'\n",
      "/raid/toxicity/miniconda3/envs/Hinvec/compiler_compat/ld: /usr/local/cuda/lib64/libcufile.so: undefined reference to `std::__throw_system_error(int)@GLIBCXX_3.4.11'\n",
      "/raid/toxicity/miniconda3/envs/Hinvec/compiler_compat/ld: /usr/local/cuda/lib64/libcufile.so: undefined reference to `std::basic_ofstream<char, std::char_traits<char> >::close()@GLIBCXX_3.4'\n",
      "/raid/toxicity/miniconda3/envs/Hinvec/compiler_compat/ld: /usr/local/cuda/lib64/libcufile.so: undefined reference to `std::ostream& std::ostream::_M_insert<double>(double)@GLIBCXX_3.4.9'\n",
      "/raid/toxicity/miniconda3/envs/Hinvec/compiler_compat/ld: /usr/local/cuda/lib64/libcufile.so: undefined reference to `std::basic_streambuf<char, std::char_traits<char> >::operator=(std::basic_streambuf<char, std::char_traits<char> > const&)@GLIBCXX_3.4'\n",
      "/raid/toxicity/miniconda3/envs/Hinvec/compiler_compat/ld: /usr/local/cuda/lib64/libcufile.so: undefined reference to `typeinfo for long long@CXXABI_1.3'\n",
      "/raid/toxicity/miniconda3/envs/Hinvec/compiler_compat/ld: /usr/local/cuda/lib64/libcufile.so: undefined reference to `std::basic_string<char, std::char_traits<char>, std::allocator<char> >::basic_string(char const*, unsigned long, std::allocator<char> const&)@GLIBCXX_3.4'\n",
      "/raid/toxicity/miniconda3/envs/Hinvec/compiler_compat/ld: /usr/local/cuda/lib64/libcufile.so: undefined reference to `std::basic_ifstream<char, std::char_traits<char> >::close()@GLIBCXX_3.4'\n",
      "/raid/toxicity/miniconda3/envs/Hinvec/compiler_compat/ld: /usr/local/cuda/lib64/libcufile.so: undefined reference to `__cxa_guard_release@CXXABI_1.3'\n",
      "/raid/toxicity/miniconda3/envs/Hinvec/compiler_compat/ld: /usr/local/cuda/lib64/libcufile.so: undefined reference to `__cxa_throw@CXXABI_1.3'\n",
      "/raid/toxicity/miniconda3/envs/Hinvec/compiler_compat/ld: /usr/local/cuda/lib64/libcufile.so: undefined reference to `std::underflow_error::~underflow_error()@GLIBCXX_3.4'\n",
      "/raid/toxicity/miniconda3/envs/Hinvec/compiler_compat/ld: /usr/local/cuda/lib64/libcufile.so: undefined reference to `std::_Rb_tree_decrement(std::_Rb_tree_node_base*)@GLIBCXX_3.4'\n",
      "/raid/toxicity/miniconda3/envs/Hinvec/compiler_compat/ld: /usr/local/cuda/lib64/libcufile.so: undefined reference to `vtable for std::length_error@GLIBCXX_3.4'\n",
      "/raid/toxicity/miniconda3/envs/Hinvec/compiler_compat/ld: /usr/local/cuda/lib64/libcufile.so: undefined reference to `std::basic_filebuf<char, std::char_traits<char> >::~basic_filebuf()@GLIBCXX_3.4'\n",
      "collect2: error: ld returned 1 exit status\n",
      "Map: 100%|██████████| 656/656 [00:00<00:00, 28101.39 examples/s]\n",
      "Stringifying the column: 100%|██████████| 656/656 [00:00<00:00, 246480.64 examples/s]\n",
      "Casting to class labels: 100%|██████████| 656/656 [00:00<00:00, 299593.14 examples/s]\n",
      "Map: 100%|██████████| 957/957 [00:00<00:00, 29903.74 examples/s]\n",
      "Stringifying the column: 100%|██████████| 957/957 [00:00<00:00, 406270.13 examples/s]\n",
      "Casting to class labels: 100%|██████████| 957/957 [00:00<00:00, 395813.92 examples/s]\n",
      "Map: 100%|██████████| 780/780 [00:00<00:00, 31510.00 examples/s]\n",
      "Stringifying the column: 100%|██████████| 780/780 [00:00<00:00, 378740.12 examples/s]\n",
      "Casting to class labels: 100%|██████████| 780/780 [00:00<00:00, 346416.47 examples/s]\n",
      "Map: 100%|██████████| 1268/1268 [00:00<00:00, 32997.74 examples/s]\n",
      "Stringifying the column: 100%|██████████| 1268/1268 [00:00<00:00, 403212.85 examples/s]\n",
      "Casting to class labels: 100%|██████████| 1268/1268 [00:00<00:00, 427281.87 examples/s]\n",
      "Map: 100%|██████████| 953/953 [00:00<00:00, 31615.44 examples/s]\n",
      "Stringifying the column: 100%|██████████| 953/953 [00:00<00:00, 393538.61 examples/s]\n",
      "Casting to class labels: 100%|██████████| 953/953 [00:00<00:00, 342252.91 examples/s]\n",
      "Map: 100%|██████████| 947/947 [00:00<00:00, 29924.33 examples/s]\n",
      "Stringifying the column: 100%|██████████| 947/947 [00:00<00:00, 411393.67 examples/s]\n",
      "Casting to class labels: 100%|██████████| 947/947 [00:00<00:00, 338446.31 examples/s]\n",
      "Map: 100%|██████████| 779/779 [00:00<00:00, 29511.21 examples/s]\n",
      "Stringifying the column: 100%|██████████| 779/779 [00:00<00:00, 345423.70 examples/s]\n",
      "Casting to class labels: 100%|██████████| 779/779 [00:00<00:00, 311355.33 examples/s]\n",
      "Map: 100%|██████████| 500/500 [00:00<00:00, 27948.61 examples/s]\n",
      "Stringifying the column: 100%|██████████| 500/500 [00:00<00:00, 224102.59 examples/s]\n",
      "Casting to class labels: 100%|██████████| 500/500 [00:00<00:00, 218362.35 examples/s]\n",
      "Map: 100%|██████████| 688/688 [00:00<00:00, 30211.18 examples/s]\n",
      "Stringifying the column: 100%|██████████| 688/688 [00:00<00:00, 294427.22 examples/s]\n",
      "Casting to class labels: 100%|██████████| 688/688 [00:00<00:00, 289901.66 examples/s]\n",
      "Map: 100%|██████████| 1044/1044 [00:00<00:00, 29231.92 examples/s]\n",
      "Stringifying the column: 100%|██████████| 1044/1044 [00:00<00:00, 351715.13 examples/s]\n",
      "Casting to class labels: 100%|██████████| 1044/1044 [00:00<00:00, 321690.67 examples/s]\n",
      "Map: 100%|██████████| 948/948 [00:00<00:00, 30007.70 examples/s]\n",
      "Stringifying the column: 100%|██████████| 948/948 [00:00<00:00, 369879.09 examples/s]\n",
      "Casting to class labels: 100%|██████████| 948/948 [00:00<00:00, 332347.06 examples/s]\n",
      "Map: 100%|██████████| 500/500 [00:00<00:00, 29829.34 examples/s]\n",
      "Stringifying the column: 100%|██████████| 500/500 [00:00<00:00, 231116.60 examples/s]\n",
      "Casting to class labels: 100%|██████████| 500/500 [00:00<00:00, 223172.50 examples/s]\n"
     ]
    }
   ],
   "source": [
    "from mteb.tasks import IndicCrosslingualSTS\n",
    "\n",
    "task = IndicCrosslingualSTS()\n",
    "task.load_data()"
   ]
  }
 ],
 "metadata": {
  "kernelspec": {
   "display_name": "Hinvec",
   "language": "python",
   "name": "python3"
  },
  "language_info": {
   "codemirror_mode": {
    "name": "ipython",
    "version": 3
   },
   "file_extension": ".py",
   "mimetype": "text/x-python",
   "name": "python",
   "nbconvert_exporter": "python",
   "pygments_lexer": "ipython3",
   "version": "3.12.9"
  }
 },
 "nbformat": 4,
 "nbformat_minor": 5
}
