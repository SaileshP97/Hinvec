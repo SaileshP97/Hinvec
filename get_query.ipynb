{
 "cells": [
  {
   "cell_type": "code",
   "execution_count": null,
   "metadata": {},
   "outputs": [],
   "source": [
    "import json\n",
    "with open(\"ABP_News_classification.json\", \"r\") as f:\n",
    "    articles = json.load(f)"
   ]
  },
  {
   "cell_type": "code",
   "execution_count": null,
   "metadata": {},
   "outputs": [],
   "source": [
    "articles.keys()"
   ]
  },
  {
   "cell_type": "code",
   "execution_count": null,
   "metadata": {},
   "outputs": [],
   "source": [
    "articles['business'][23]"
   ]
  },
  {
   "cell_type": "code",
   "execution_count": null,
   "metadata": {},
   "outputs": [],
   "source": [
    "from openai import OpenAI\n",
    "import random\n",
    "import time\n",
    "import re\n",
    "\n",
    "try:\n",
    "    with open(\"ABP_new_query_doc.json\", \"r\") as f:\n",
    "        query_doc = json.load(f) \n",
    "except FileNotFoundError:\n",
    "    query_doc = {}\n",
    "\n",
    "def generate_query_for_article(article_text):\n",
    "\n",
    "    client = OpenAI(\n",
    "        base_url=\"https://integrate.api.nvidia.com/v1\",\n",
    "        api_key=\"XXXXX\"\n",
    "    )\n",
    "    \n",
    "    system_message = \"\"\"\n",
    "    You are an AI assistant designed to generate relevant questions in Hindi based on news articles. Your task is to generate exactly one concise and well-structured question in Hindi that is directly answerable from the article. If the article is in English, first understand it and then generate the question in Hindi. Ensure proper grammar and vocabulary usage. The question should be enclosed within ##* markers like this:  ##* question ##*.\n",
    "    \"\"\"\n",
    "    \n",
    "    completion = client.chat.completions.create(\n",
    "        model=\"nvidia/llama-3.3-nemotron-super-49b-v1\",\n",
    "        messages=[\n",
    "            {\"role\": \"system\", \"content\": system_message},\n",
    "            {\"role\": \"user\", \"content\": f\"Here is a news article:\\n\\n{article_text}\\n\\nGenerate one relevant question whose answer is present in this article:\"}\n",
    "        ],\n",
    "        temperature=0.6,\n",
    "        top_p=0.95,\n",
    "        max_tokens=100,\n",
    "        frequency_penalty=0,\n",
    "        presence_penalty=0,\n",
    "        stream=False\n",
    "    )\n",
    "    \n",
    "    return completion.choices[0].message.content.strip()\n",
    "\n",
    "if __name__ == \"__main__\":\n",
    "\n",
    "    rpm_limit = 40\n",
    "    wait_time = (60.0 / (rpm_limit * 0.95))\n",
    "    jitter = random.uniform(0.9, 1.1)\n",
    "    sleep_duration = wait_time * jitter\n",
    "\n",
    "    with open(\"ABP_News_classification.json\", \"r\") as f:\n",
    "        articles = json.load(f)\n",
    "\n",
    "    for field in articles.keys():\n",
    "\n",
    "        if field in ['business', 'astro', 'lifestyle', 'gk', 'education', 'agriculture']:\n",
    "            continue\n",
    "        count = 0\n",
    "        q_d = []\n",
    "        for article in articles[field]:\n",
    " \n",
    "            if count%40 == 0:\n",
    "                time.sleep(sleep_duration)\n",
    "            query = generate_query_for_article(article)\n",
    "            \n",
    "            pattern = r'##\\*(.*?)##\\*'\n",
    "            match = re.search(pattern, query, re.DOTALL)\n",
    "            if match:\n",
    "                q_d.append([article, match.group(1).strip() + \"?\"])\n",
    "            else:\n",
    "                q_d.append([article, None])\n",
    "        \n",
    "            if count > 2100:\n",
    "                break\n",
    "            else:\n",
    "                count+=1\n",
    "\n",
    "        query_doc[field] = q_d\n",
    "\n",
    "        with open(\"ABP_new_query_doc.json\", \"w\") as f:\n",
    "            json.dump(query_doc, f, indent=4)\n",
    "            "
   ]
  },
  {
   "cell_type": "code",
   "execution_count": 6,
   "metadata": {},
   "outputs": [
    {
     "name": "stdout",
     "output_type": "stream",
     "text": [
      "business : 2102\n",
      "astro : 2102\n",
      "lifestyle : 2102\n",
      "gk : 2102\n",
      "education : 2102\n",
      "agriculture : 2102\n",
      "technology : 2102\n",
      "states : 2102\n",
      "entertainment : 2102\n",
      "sports : 2102\n"
     ]
    }
   ],
   "source": [
    "import json\n",
    "with open(\"Data/Retrieval/ABP_news/ABP_new_query_doc.json\", \"r\") as f:\n",
    "    query_doc = json.load(f)\n",
    "\n",
    "for field in query_doc.keys():\n",
    "    print(f\"{field} : {len(query_doc[field])}\")"
   ]
  },
  {
   "cell_type": "code",
   "execution_count": 1,
   "metadata": {},
   "outputs": [],
   "source": [
    "import json\n",
    "\n",
    "with open(\"new_training_data/train_data_with_hard_negative.jsonl\", \"r\") as f:\n",
    "    train_data = [json.loads(line) for line in f]"
   ]
  },
  {
   "cell_type": "code",
   "execution_count": null,
   "metadata": {},
   "outputs": [],
   "source": [
    "x = [1 for sample in train_data if sample.get(\"hard_negative_flag\", -1) == 0]"
   ]
  },
  {
   "cell_type": "code",
   "execution_count": 12,
   "metadata": {},
   "outputs": [
    {
     "data": {
      "text/plain": [
       "0"
      ]
     },
     "execution_count": 12,
     "metadata": {},
     "output_type": "execute_result"
    }
   ],
   "source": [
    "sum(x)"
   ]
  },
  {
   "cell_type": "code",
   "execution_count": 8,
   "metadata": {},
   "outputs": [
    {
     "data": {
      "text/plain": [
       "{'id': 'crosssum_english_englishen_174764',\n",
       " 'source': 'Instructions: Retrieve the most relevant paragraph from a set of options for a given summary. Summary: Work to replace a bridge on the route of a planned artificial river in Oxford will not be completed until 2025.',\n",
       " 'target': 'Oxfordshire County Council initially planned to repair the A423 Kennington Railway Bridge until inspections in 2019 found it was unfixable. The authority said dealing with a major road, water and electricity, in order to remove the old bridge, would take longer to complete than first planned. The new £40m bridge is on the route of a £150m flood defence scheme. Work on replacing the bridge, which was built in 1965, started in August. Archaeological survey trenches have also been dug in a field close to the A34 at South Hinksey. Once the construction is finished, the Oxford Flood Alleviation project, which has been delayed further due to the bridge works, will eventually see a stream created to the west of Oxford. The aim of the scheme is to take rainwater off the fields and to prevent flooding. The River Cherwell and River Thames both run through the city which and floods have occurred in 2007, 2012 and 2013/14. The county council previously said designing and building both the bridge and flood alleviation scheme together would \"reduce disruption\" and \"ensure the best use of public money\".',\n",
       " 'hard_negative': \"The replacement of the outdated Oxford Railway Museum's footbridge, part of a broader £20m heritage restoration project, has been postponed to 2026 due to unforeseen complexities in relocating a rare species of bat, delaying the museum's planned expansion along the River Isis, which historically flooded in 1955 and 1976.\",\n",
       " 'hard_negative_flag': 1}"
      ]
     },
     "execution_count": 8,
     "metadata": {},
     "output_type": "execute_result"
    }
   ],
   "source": [
    "train_data[23]"
   ]
  },
  {
   "cell_type": "code",
   "execution_count": null,
   "metadata": {},
   "outputs": [],
   "source": []
  }
 ],
 "metadata": {
  "kernelspec": {
   "display_name": "AI",
   "language": "python",
   "name": "python3"
  },
  "language_info": {
   "codemirror_mode": {
    "name": "ipython",
    "version": 3
   },
   "file_extension": ".py",
   "mimetype": "text/x-python",
   "name": "python",
   "nbconvert_exporter": "python",
   "pygments_lexer": "ipython3",
   "version": "3.10.16"
  }
 },
 "nbformat": 4,
 "nbformat_minor": 2
}
